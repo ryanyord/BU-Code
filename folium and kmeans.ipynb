{
 "cells": [
  {
   "cell_type": "markdown",
   "metadata": {},
   "source": [
    "# Homework 2 (100 Points)\n",
    "\n",
    "The goal of this homework is to get more practice with pandas and get practice with clustering on various datasets.\n",
    "\n",
    "\n",
    "\n",
    "## Exercise 1 - (50 points)\n",
    "\n",
    "This exercise will be using the [Airbnb dataset](http://insideairbnb.com/get-the-data.html) for NYC called `listings.csv`. You can download it directly [here](http://data.insideairbnb.com/united-states/ny/new-york-city/2021-11-02/visualisations/listings.csv)\n",
    "\n",
    "a) Produce a Heatmap using the Folium package (you can install it using pip) of the mean listing price per location (lattitude and longitude) over the NYC map. (5 points)\n",
    "\n",
    "Hints:\n",
    "1. generate a base map of NYC to plot over: default_location=[40.693943, -73.985880] \n",
    "2. generate an HTML file named `index.html` - open it in your browser and you'll see the heatmap \n",
    "\n"
   ]
  },
  {
   "cell_type": "code",
   "execution_count": 279,
   "metadata": {},
   "outputs": [
    {
     "name": "stderr",
     "output_type": "stream",
     "text": [
      "C:\\Users\\ryany\\anaconda3\\lib\\site-packages\\IPython\\core\\interactiveshell.py:3165: DtypeWarning: Columns (17) have mixed types.Specify dtype option on import or set low_memory=False.\n",
      "  has_raised = await self.run_ast_nodes(code_ast.body, cell_name,\n"
     ]
    }
   ],
   "source": [
    "# pip install folium\n",
    "# Ryan Yordanoff\n",
    "import pandas as pd\n",
    "import folium\n",
    "import folium.plugins\n",
    "\n",
    "listings_data = pd.read_csv('listings.csv')\n",
    "\n",
    "nyc_map = folium.Map(location=[40.693943, -73.985880])\n",
    "\n",
    "#returns list of lists with lat,long,mean price weight\n",
    "heatmap_data = listings_data.groupby(['latitude','longitude'])['price'].mean().reset_index().values.tolist() \n",
    "\n",
    "\n",
    "folium.plugins.HeatMap(heatmap_data).add_to(nyc_map)\n",
    "\n",
    "\n",
    "nyc_map.save(outfile = \"indexa.html\")\n",
    "\n",
    "# nyc_map"
   ]
  },
  {
   "cell_type": "markdown",
   "metadata": {},
   "source": [
    "b) Normalize the price by subtracting the mean and dividing by the standard deviation. Then reproduce the heatmap from a). Comment on any differences you observe. - (5 points )\n",
    "\n"
   ]
  },
  {
   "cell_type": "code",
   "execution_count": 280,
   "metadata": {},
   "outputs": [],
   "source": [
    "mean_price = listings_data['price'].mean()\n",
    "\n",
    "stdev_price = listings_data['price'].std()\n",
    "\n",
    "normalized_listings_data = listings_data.copy()\n",
    "\n",
    "normalized_listings_data['price'] = (listings_data['price']-mean_price)/stdev_price\n",
    "\n",
    "norm_nyc_map = folium.Map(location=[40.693943, -73.985880])\n",
    "\n",
    "norm_heatmap_data = normalized_listings_data.groupby(['latitude','longitude'])['price'].mean().reset_index().values.tolist()\n",
    "\n",
    "folium.plugins.HeatMap(norm_heatmap_data).add_to(norm_nyc_map)\n",
    "\n",
    "norm_nyc_map.save(outfile = \"indexb.html\")\n",
    "\n",
    "# norm_nyc_map"
   ]
  },
  {
   "cell_type": "markdown",
   "metadata": {},
   "source": [
    "When comparing maps side by side, I notice subtle differences.  Some area have relatively higher weight intensities and some have relatively lower intensities, compared to non-normalized data."
   ]
  },
  {
   "cell_type": "markdown",
   "metadata": {},
   "source": [
    "c) Normalize the original price using sklearn's [MinMaxScaler](https://scikit-learn.org/stable/modules/generated/sklearn.preprocessing.MinMaxScaler.html) to the interval [0,1]. Then reproduce the Heatmap from a). Comment on any differences you observe.  - (5 points)\n",
    "\n"
   ]
  },
  {
   "cell_type": "code",
   "execution_count": 281,
   "metadata": {},
   "outputs": [],
   "source": [
    "from sklearn.preprocessing import MinMaxScaler\n",
    "\n",
    "normalized2_listings_data = listings_data.copy()\n",
    "\n",
    "scaler = MinMaxScaler()\n",
    "\n",
    "normalized2_listings_data['price'] = scaler.fit_transform(listings_data[['price']])\n",
    "\n",
    "norm2_nyc_map = folium.Map(location=[40.693943, -73.985880])\n",
    "\n",
    "norm2_heatmap_data = normalized2_listings_data.groupby(['latitude','longitude'])['price'].mean().reset_index().values.tolist()\n",
    "\n",
    "folium.plugins.HeatMap(norm2_heatmap_data).add_to(norm2_nyc_map)\n",
    "\n",
    "norm2_nyc_map.save(outfile = \"indexc.html\")\n",
    "\n",
    "# norm2_nyc_map"
   ]
  },
  {
   "cell_type": "markdown",
   "metadata": {},
   "source": [
    "Again I am seeing slight differences similiar to my previous observations.  Comparing the 3 side by side, they all have subtle differences."
   ]
  },
  {
   "cell_type": "markdown",
   "metadata": {},
   "source": [
    "d) Plot a bar chart of the average price (un-normalized) per room type. Briefly comment on the relation between price and room type. - (2.5 points)\n"
   ]
  },
  {
   "cell_type": "code",
   "execution_count": 282,
   "metadata": {},
   "outputs": [],
   "source": [
    "zz = listings_data.groupby(['room_type'])['price'].mean().reset_index().values.tolist()\n",
    "my_zz = pd.DataFrame(zz)"
   ]
  },
  {
   "cell_type": "code",
   "execution_count": 283,
   "metadata": {},
   "outputs": [
    {
     "data": {
      "image/png": "[encoded data removed]",
      "text/plain": [
       "<Figure size 432x288 with 1 Axes>"
      ]
     },
     "metadata": {
      "needs_background": "light"
     },
     "output_type": "display_data"
    }
   ],
   "source": [
    "import matplotlib.pyplot as plt\n",
    "\n",
    "avg_room_price = listings_data.groupby(['room_type'])['price'].mean().reset_index().values.tolist()\n",
    "avg_room_price_df = pd.DataFrame(avg_room_price)\n",
    "\n",
    "plt.bar(avg_room_price_df[0], avg_room_price_df[1])\n",
    "plt.title(\"Price by Roomtype of NYC Airbnb Listings\")\n",
    "plt.ylabel(\"Price per Night ($)\")\n",
    "plt.show()"
   ]
  },
  {
   "cell_type": "markdown",
   "metadata": {},
   "source": [
    "The graph speaks for itself;  Hotel Room is the most expensive by a large margin, entire place a bit lower, shared room and private room appear to be much lower relatively."
   ]
  },
  {
   "cell_type": "markdown",
   "metadata": {},
   "source": [
    "e) Plot on the NYC map the top 10 most expensive listings - (2.5 points)"
   ]
  },
  {
   "cell_type": "code",
   "execution_count": 284,
   "metadata": {},
   "outputs": [],
   "source": [
    "ten_most_expensive = listings_data.sort_values('price',ascending=False).head(10)\n",
    "\n",
    "nyc_map_e = folium.Map(location=[40.693943, -73.985880])\n",
    "\n",
    "ten_most_expensive_l = ten_most_expensive[['latitude','longitude','name']].values.tolist()\n",
    "\n",
    "for i in ten_most_expensive_l:\n",
    "    folium.Marker(location = [i[0],i[1]], popup = i[2]).add_to(nyc_map_e)\n",
    "\n",
    "nyc_map_e.save(outfile = \"indexe.html\")\n",
    "\n",
    "# nyc_map_e"
   ]
  },
  {
   "cell_type": "markdown",
   "metadata": {},
   "source": [
    "f) Plot on the NYC map the top 10 most reviewed listings - (2.5 points)\n"
   ]
  },
  {
   "cell_type": "code",
   "execution_count": 285,
   "metadata": {},
   "outputs": [],
   "source": [
    "ten_most_reviewed = listings_data.sort_values('number_of_reviews_ltm',ascending=False).head(10)\n",
    "\n",
    "ten_most_reviewed_l = ten_most_reviewed[['latitude','longitude','name']].values.tolist()\n",
    "\n",
    "nyc_map_f = folium.Map(location=[40.693943, -73.985880])\n",
    "\n",
    "for i in ten_most_reviewed_l:\n",
    "    folium.Marker(location = [i[0],i[1]], popup = i[2]).add_to(nyc_map_f)\n",
    "\n",
    "nyc_map_f.save(outfile = \"indexf.html\")\n",
    "\n",
    "# nyc_map_f"
   ]
  },
  {
   "cell_type": "markdown",
   "metadata": {},
   "source": [
    "g) Plot on the NYC map the top 10 most available listings - (2.5 points)"
   ]
  },
  {
   "cell_type": "code",
   "execution_count": 286,
   "metadata": {},
   "outputs": [],
   "source": [
    "ten_most_available = listings_data.sort_values('availability_365',ascending=False).head(10)\n",
    "\n",
    "ten_most_available_l = ten_most_available[['latitude','longitude','name']].values.tolist()\n",
    "\n",
    "nyc_map_g = folium.Map(location=[40.693943, -73.985880])\n",
    "\n",
    "for i in ten_most_available_l:\n",
    "    folium.Marker(location = [i[0],i[1]], popup = i[2]).add_to(nyc_map_g)\n",
    "\n",
    "nyc_map_g.save(outfile = \"indexg.html\")\n",
    "\n",
    "# nyc_map_g"
   ]
  },
  {
   "cell_type": "markdown",
   "metadata": {},
   "source": [
    "h) Using `longitude`, `latitude`, `price`, and `number_of_reviews`, use Kmeans to create 5 clusters. Plot the points on the NYC map in a color corresponding to their cluster. - (5 points)\n"
   ]
  },
  {
   "cell_type": "code",
   "execution_count": 287,
   "metadata": {},
   "outputs": [],
   "source": [
    "from sklearn.cluster import KMeans\n",
    "from sklearn.preprocessing import StandardScaler\n",
    "import seaborn as sns\n",
    "import branca.colormap as cm\n",
    "\n",
    "\n",
    "kmeans_data = listings_data[['latitude', 'longitude', 'price', 'number_of_reviews']]\n",
    "\n",
    "# standardize/scale\n",
    "sc = StandardScaler()\n",
    "kmeans_data_std = sc.fit_transform(kmeans_data.astype(float))\n",
    "\n",
    "# perform kmeans\n",
    "kmeans = KMeans(n_clusters=5).fit(kmeans_data_std)\n",
    "\n",
    "# prepare map\n",
    "nyc_map_h = folium.Map(location=[40.693943, -73.985880])\n",
    "\n",
    "colormap = cm.LinearColormap(colors=['green', 'blue', 'orange','yellow','red'], index=[0,1,2,3,4])\n",
    "\n",
    "kmeans_colors = kmeans.labels_\n",
    "\n",
    "coords_l = listings_data[['latitude','longitude']].values.tolist()\n",
    "\n",
    "# add cluster points to map\n",
    "for i in range(len(coords_l)):\n",
    "    folium.Circle(location=coords_l[i], radius=2, fill=True, color=colormap(kmeans_colors[i])).add_to(nyc_map_h)\n",
    "\n",
    "nyc_map_h.save(outfile = \"indexh.html\")\n",
    "\n",
    "# nyc_map_h"
   ]
  },
  {
   "cell_type": "markdown",
   "metadata": {},
   "source": [
    "i) You should see points in the same cluster all over the map - briefly explain why that is. - (2.5 points)"
   ]
  },
  {
   "cell_type": "markdown",
   "metadata": {},
   "source": [
    "This is because price and number of reviews is taken into account when clustering.  For instance one cluster in my plot appear to correspond with expensive listings."
   ]
  },
  {
   "cell_type": "markdown",
   "metadata": {},
   "source": [
    "j) How many clusters would you recommend using instead of 5? Display and interpret either the silhouette scores or the elbow method. - (5 points)"
   ]
  },
  {
   "cell_type": "code",
   "execution_count": 288,
   "metadata": {},
   "outputs": [
    {
     "data": {
      "image/png": "[encoded data removed]",
      "text/plain": [
       "<Figure size 432x288 with 1 Axes>"
      ]
     },
     "metadata": {
      "needs_background": "light"
     },
     "output_type": "display_data"
    }
   ],
   "source": [
    "kmeans_data = listings_data[['latitude', 'longitude', 'price', 'number_of_reviews']]\n",
    "kmeans_data_std = sc.fit_transform(kmeans_data.astype(float))\n",
    "\n",
    "inertia_l = []\n",
    "\n",
    "for i in range(10):    \n",
    "    kmeans = KMeans(n_clusters=i+1)\n",
    "    kmeans.fit(kmeans_data_std)\n",
    "    inertia_l.append(kmeans.inertia_)\n",
    "\n",
    "plt.plot(range(10), inertia_l)\n",
    "plt.xlabel('k')\n",
    "plt.ylabel('Distortion')\n",
    "plt.title('Elbow Method for k clusters in KMeans Clustering of NYC Airbnb Listings')\n",
    "plt.show()"
   ]
  },
  {
   "cell_type": "markdown",
   "metadata": {},
   "source": [
    "The plot shows a (slight) elbow at k=4 and k=6, so I would recommend using 6 clusters instead of 5, as diminishing returns appear after k = 6."
   ]
  },
  {
   "cell_type": "markdown",
   "metadata": {},
   "source": [
    "k) Would you recommend normalizing the price and number of reviews? Briefly explain why. - (2.5 points)"
   ]
  },
  {
   "cell_type": "markdown",
   "metadata": {},
   "source": [
    "Yes I would recommend normalizing both.  Price is a much higher value (generally) than the number of reviews.  To compare these two features, we would need to normalize price/number of reviews."
   ]
  },
  {
   "cell_type": "markdown",
   "metadata": {},
   "source": [
    "l) For all listings of type `Shared room`, plot the dendrogram of the hierarchical clustering generated from `longitude`, `latitude`, and `price`. - (5 points)\n"
   ]
  },
  {
   "cell_type": "code",
   "execution_count": 289,
   "metadata": {},
   "outputs": [
    {
     "data": {
      "image/png": "[encoded data removed]",
      "text/plain": [
       "<Figure size 960x640 with 1 Axes>"
      ]
     },
     "metadata": {
      "needs_background": "light"
     },
     "output_type": "display_data"
    }
   ],
   "source": [
    "import scipy.cluster.hierarchy as shc\n",
    "\n",
    "hotel_data = listings_data.loc[listings_data['room_type'] == 'Hotel room']\n",
    "\n",
    "hierarchical_data = hotel_data[['latitude', 'longitude', 'price']]\n",
    "\n",
    "plt.figure(figsize=(12, 8), dpi=80)\n",
    "dendrogram = shc.dendrogram(shc.linkage(hierarchical_data, method='ward'))\n",
    "plt.title(\"Dendrogram of AirBnb Hotel Rooms by Location and Price Clustering\")  \n",
    "plt.xlabel('Samples')\n",
    "plt.ylabel('Distance')\n",
    "plt.show()\n"
   ]
  },
  {
   "cell_type": "markdown",
   "metadata": {},
   "source": [
    "m) briefly comment on what you observe from the structure of the dendrogram.  - (2.5 points)"
   ]
  },
  {
   "cell_type": "markdown",
   "metadata": {},
   "source": [
    "Using the ward linkage method, it appears there a are 3 distinct clusters.  One minor cluster, shown in orange appears to be smaller and an outgroup."
   ]
  },
  {
   "cell_type": "markdown",
   "metadata": {},
   "source": [
    "n) Normalize the `price` as in b) and repeat l) - (2.5 points)"
   ]
  },
  {
   "cell_type": "code",
   "execution_count": 290,
   "metadata": {},
   "outputs": [
    {
     "data": {
      "image/png": "[encoded data removed]",
      "text/plain": [
       "<Figure size 960x640 with 1 Axes>"
      ]
     },
     "metadata": {
      "needs_background": "light"
     },
     "output_type": "display_data"
    }
   ],
   "source": [
    "hotel_data_n = listings_data.loc[listings_data['room_type'] == 'Hotel room']\n",
    "\n",
    "norm_hierarchical_data = hotel_data_n[['latitude', 'longitude', 'price']]\n",
    "\n",
    "norm_hierarchical_data_copy = norm_hierarchical_data.copy()\n",
    "\n",
    "mean_price_n = norm_hierarchical_data_copy['price'].mean()\n",
    "\n",
    "stdev_price_n = norm_hierarchical_data_copy['price'].std()\n",
    "\n",
    "norm_hierarchical_data_copy['price'] = (norm_hierarchical_data['price']-mean_price_n)/stdev_price_n\n",
    "\n",
    "plt.figure(figsize=(12, 8), dpi=80)\n",
    "dendrogram2 = shc.dendrogram(shc.linkage(norm_hierarchical_data_copy, method='ward'))\n",
    "plt.title(\"Dendrogram of AirBnb Hotel Rooms by Location and Price Clustering with Normalized Price\")  \n",
    "plt.xlabel('Samples')\n",
    "plt.ylabel('Distance')\n",
    "plt.show()"
   ]
  },
  {
   "cell_type": "markdown",
   "metadata": {},
   "source": [
    "## Exercise 2 (50 points)\n",
    "\n",
    "This exercise will be using the [mnist dataset](http://yann.lecun.com/exdb/mnist/).\n",
    "\n",
    "a) Using Kmeans, cluster the images using 10 clusters and plot the centroid of each cluster. - (10 points)"
   ]
  },
  {
   "cell_type": "code",
   "execution_count": 291,
   "metadata": {},
   "outputs": [
    {
     "data": {
      "image/png": "[encoded data removed]",
      "text/plain": [
       "<Figure size 720x648 with 10 Axes>"
      ]
     },
     "metadata": {
      "needs_background": "light"
     },
     "output_type": "display_data"
    }
   ],
   "source": [
    "import pandas as pd\n",
    "import matplotlib.pyplot as plt\n",
    "import numpy as np\n",
    "\n",
    "from sklearn.cluster import KMeans\n",
    "from sklearn.datasets import load_digits\n",
    "\n",
    "mnist = load_digits()\n",
    "\n",
    "kmeans_a = KMeans(n_clusters=10)\n",
    "kmeans_a.fit(mnist.data)\n",
    "\n",
    "# convert 10,64 to 10,8,8 for plotting\n",
    "centroids_8_8 = np.reshape(kmeans_a.cluster_centers_, [10,8,8])\n",
    "\n",
    "# plot\n",
    "plt.figure(figsize = (10,9))\n",
    "\n",
    "for i in range(10):\n",
    "    plt.subplot(2,5,i+1)\n",
    "    plt.subplots_adjust(bottom=.5)\n",
    "    plt.imshow(centroids_8_8[i])\n"
   ]
  },
  {
   "cell_type": "markdown",
   "metadata": {},
   "source": [
    "b) what is the disagreement distance between the clustering you created above and the clustering created by the labels attached to each image? Briefly explain what this number means in this context. - (10 points)"
   ]
  },
  {
   "cell_type": "code",
   "execution_count": 292,
   "metadata": {},
   "outputs": [
    {
     "name": "stdout",
     "output_type": "stream",
     "text": [
      "The disagreement distance is equal to: 213024.\n"
     ]
    }
   ],
   "source": [
    "from itertools import combinations\n",
    "\n",
    "p_c = np.vstack([mnist.target, kmeans_a.labels_],).transpose()\n",
    "\n",
    "# for i in combinations(zz_ten, 2):   #use to view combinations that match as sanity check\n",
    "#     if (i[0][0] == i[1][0]) or (i[0][1] == i[1][1]):\n",
    "#         print(i)\n",
    "\n",
    "disagreement_d = 0\n",
    "\n",
    "for i in combinations(p_c, 2):\n",
    "    if (i[0][0] == i[1][0]) or (i[0][1] == i[1][1]):\n",
    "        disagreement_d += 1 \n",
    "\n",
    "print(f'The disagreement distance is equal to: {disagreement_d}.')"
   ]
  },
  {
   "cell_type": "markdown",
   "metadata": {},
   "source": [
    "The disagreement distance is equal to: 213234. In this context the disagreement distance indicates the level of disagreement our kmeans clustering had, compared to the actual cluster label.  So in this context the disagreement is analogous to the level of error with kmeans clustering."
   ]
  },
  {
   "cell_type": "markdown",
   "metadata": {},
   "source": [
    "c) Download the CIFAR-10 dataset [here](https://www.cs.toronto.edu/~kriz/cifar.html). Open `batch_1` by following the documentation on the web page. Plot a random image from the dataset. - (10 points)"
   ]
  },
  {
   "cell_type": "code",
   "execution_count": 293,
   "metadata": {},
   "outputs": [
    {
     "data": {
      "text/plain": [
       "<matplotlib.image.AxesImage at 0x2034c50a3d0>"
      ]
     },
     "execution_count": 293,
     "metadata": {},
     "output_type": "execute_result"
    },
    {
     "data": {
      "image/png": "[encoded data removed]",
      "text/plain": [
       "<Figure size 432x288 with 1 Axes>"
      ]
     },
     "metadata": {
      "needs_background": "light"
     },
     "output_type": "display_data"
    }
   ],
   "source": [
    "# load batch_1\n",
    "def unpickle(file):\n",
    "    import pickle\n",
    "    with open(file, 'rb') as fo:\n",
    "        dict = pickle.load(fo, encoding='bytes')\n",
    "    return dict\n",
    "\n",
    "db_1 = unpickle('data_batch_1')\n",
    "\n",
    "\n",
    "db_1_data = db_1[b'data'] # .shape = (10000, 3072)\n",
    "db_1_data = db_1_data.reshape(10000, 3, 32, 32).transpose(0,2,3,1).astype(\"uint8\")\n",
    "\n",
    "\n",
    "#plot\n",
    "rand = np.random.choice(range(len(db_1_data)))\n",
    "plt.imshow(db_1_data[rand])"
   ]
  },
  {
   "cell_type": "markdown",
   "metadata": {},
   "source": [
    "d) This image is 32 x 32 pixels and each pixel is a 3-dimensional object of RGB (Red, Green, Blue) intensities. Using the same image as in c), produce an image that only uses 4 colors (the 4 centroids of the clusters obtained by clustering the image itself using Kmeans). - (10 points)"
   ]
  },
  {
   "cell_type": "code",
   "execution_count": 294,
   "metadata": {},
   "outputs": [
    {
     "data": {
      "image/png": "[encoded data removed]",
      "text/plain": [
       "<Figure size 432x288 with 1 Axes>"
      ]
     },
     "metadata": {
      "needs_background": "light"
     },
     "output_type": "display_data"
    }
   ],
   "source": [
    "flat = db_1_data[rand].reshape(1024,3)\n",
    "\n",
    "kmeans_d = KMeans(n_clusters=4)\n",
    "\n",
    "kmeans_d.fit(flat)\n",
    "\n",
    "centers = np.uint8(kmeans_d.cluster_centers_)\n",
    "\n",
    "labels = kmeans_d.labels_.flatten()\n",
    "\n",
    "# pixel color change to centroid\n",
    "image = centers[labels.flatten()]\n",
    "\n",
    "image = image.reshape(32, 32, 3)\n",
    "\n",
    "# show the image\n",
    "plt.imshow(image)\n",
    "plt.show()"
   ]
  },
  {
   "cell_type": "markdown",
   "metadata": {},
   "source": [
    "e) Write a function that applies this transformation to the entire dataset for any number K of colors. - (10 points)"
   ]
  },
  {
   "cell_type": "code",
   "execution_count": 295,
   "metadata": {},
   "outputs": [],
   "source": [
    "def kmeans_dataset(data, k):\n",
    "    data = data.reshape(10000, 3, 32, 32).transpose(0,2,3,1).astype(\"uint8\")\n",
    "\n",
    "    for i in range(len(data)):\n",
    "        flat_data = data[i].reshape(1024,3)\n",
    "\n",
    "        kmeans = KMeans(n_clusters=k)\n",
    "\n",
    "        kmeans.fit(flat_data)\n",
    "\n",
    "        centers = np.uint8(kmeans.cluster_centers_)\n",
    "\n",
    "        labels = kmeans.labels_.flatten()\n",
    "\n",
    "        image = centers[labels.flatten()]\n",
    "\n",
    "        data[i] = image.reshape(32, 32, 3)\n",
    "\n",
    "    return data\n",
    "\n"
   ]
  },
  {
   "cell_type": "markdown",
   "metadata": {},
   "source": [
    "Example of kmeans_dataset():"
   ]
  },
  {
   "cell_type": "code",
   "execution_count": 296,
   "metadata": {},
   "outputs": [],
   "source": [
    "k_5_dataset = kmeans_dataset(db_1[b'data'], 5)"
   ]
  },
  {
   "cell_type": "code",
   "execution_count": 297,
   "metadata": {},
   "outputs": [
    {
     "data": {
      "image/png": "[encoded data removed]",
      "text/plain": [
       "<Figure size 432x288 with 1 Axes>"
      ]
     },
     "metadata": {
      "needs_background": "light"
     },
     "output_type": "display_data"
    }
   ],
   "source": [
    "plt.imshow(k_5_dataset[7])\n",
    "plt.show()"
   ]
  },
  {
   "cell_type": "code",
   "execution_count": 298,
   "metadata": {},
   "outputs": [
    {
     "data": {
      "image/png": "[encoded data removed]",
      "text/plain": [
       "<Figure size 432x288 with 1 Axes>"
      ]
     },
     "metadata": {
      "needs_background": "light"
     },
     "output_type": "display_data"
    }
   ],
   "source": [
    "plt.imshow(k_5_dataset[8010])\n",
    "plt.show()"
   ]
  }
 ],
 "metadata": {
  "interpreter": {
   "hash": "82429e696b46c3c15b3b750c00f04c8ab1a33795e485b12d2eb3901d37b257c7"
  },
  "kernelspec": {
   "display_name": "Python 3.9.7 64-bit ('base': conda)",
   "name": "python3"
  },
  "language_info": {
   "codemirror_mode": {
    "name": "ipython",
    "version": 3
   },
   "file_extension": ".py",
   "mimetype": "text/x-python",
   "name": "python",
   "nbconvert_exporter": "python",
   "pygments_lexer": "ipython3",
   "version": "3.8.8"
  },
  "orig_nbformat": 4
 },
 "nbformat": 4,
 "nbformat_minor": 2
}
