{
 "cells": [
  {
   "cell_type": "markdown",
   "metadata": {},
   "source": [
    "# Extra Credit Rosalind - Ryan Yordanoff - ryord\n",
    " "
   ]
  },
  {
   "cell_type": "markdown",
   "metadata": {},
   "source": [
    "# Counting DNA Nucleotides\n"
   ]
  },
  {
   "cell_type": "code",
   "execution_count": 28,
   "metadata": {},
   "outputs": [],
   "source": [
    "def run(s):\n",
    "    \"\"\"Loops through each character in string and adds count of character.\n",
    "    Returns charachter counts.\"\"\"\n",
    "    A = 0\n",
    "    T = 0\n",
    "    C = 0\n",
    "    G = 0\n",
    "\n",
    "    for i in s:\n",
    "        if i == 'A':\n",
    "            A += 1\n",
    "        elif i == 'T':\n",
    "            T += 1\n",
    "        elif i == 'C':\n",
    "            C += 1\n",
    "        elif i == 'G':\n",
    "            G += 1\n",
    "\n",
    "    print(f'{A} {C} {G} {T}') #formatted as specified by rosalind\n"
   ]
  },
  {
   "cell_type": "markdown",
   "metadata": {},
   "source": [
    "![Counting DNA Nucleotides](DNA.jpg \"DNA\")"
   ]
  },
  {
   "cell_type": "markdown",
   "metadata": {},
   "source": [
    "# Transcribing DNA into RNA"
   ]
  },
  {
   "cell_type": "code",
   "execution_count": 29,
   "metadata": {},
   "outputs": [],
   "source": [
    "def run(t):\n",
    "    \"\"\"Returns the transcribed RNA string of t.\"\"\"\n",
    "    t_output = ''\n",
    "\n",
    "    for nt in t:\n",
    "        if nt == 'T':\n",
    "            t_output += 'U'\n",
    "        else:\n",
    "            t_output += nt\n",
    "\n",
    "    print(t_output)"
   ]
  },
  {
   "cell_type": "markdown",
   "metadata": {},
   "source": [
    "![](RNA.jpg \"RNA\")"
   ]
  },
  {
   "cell_type": "markdown",
   "metadata": {},
   "source": [
    "# Complementing a Strand of DNA"
   ]
  },
  {
   "cell_type": "code",
   "execution_count": 30,
   "metadata": {},
   "outputs": [],
   "source": [
    "def run(ss):\n",
    "    \"\"\"Returns the reverse complement (sc) of s.\"\"\"\n",
    "    s_output = ''\n",
    "\n",
    "    for i in ss[::-1]:\n",
    "        if i == 'A':\n",
    "            s_output += 'T'\n",
    "        elif i == 'T':\n",
    "            s_output += 'A'\n",
    "        elif i == 'C':\n",
    "            s_output += 'G'\n",
    "        elif i == 'G':\n",
    "            s_output += 'C'\n",
    "\n",
    "    print(s_output)"
   ]
  },
  {
   "cell_type": "markdown",
   "metadata": {},
   "source": [
    "![](REVC.jpg \"REVC\")"
   ]
  },
  {
   "cell_type": "markdown",
   "metadata": {},
   "source": [
    "# Rabbits and Recurrence Relations"
   ]
  },
  {
   "cell_type": "code",
   "execution_count": 31,
   "metadata": {},
   "outputs": [],
   "source": [
    "def run(n, k):\n",
    "    \"\"\"Returns  The total number of rabbit pairs that will be present after\n",
    "    n months, if we begin with 1 pair and in each generation, every pair of reproduction-age rabbits\n",
    "    produces a litter of k rabbit pairs (instead of only 1 pair).\n",
    "    Example memory = wascally_wabbits(4, 3) => {1:[0],2:[1],3:[1,0,0,0],4:[1,1,1,0,0,0,1]} \"\"\"\n",
    "\n",
    "    memory = {1:[0]}  # 0 in memory means not reproductive age, 1 in memory means reproductive age met\n",
    "    initial = True\n",
    "    ans = 0\n",
    "\n",
    "    for i in range(n):\n",
    "        if initial == True: #if initial skip\n",
    "            initial = False\n",
    "\n",
    "        else:\n",
    "            memory[i+1] = []\n",
    "            for j in memory[i]:\n",
    "                if j == 0: #not reproductive age\n",
    "                        memory[i+1].append(1)\n",
    "\n",
    "                else: # =1                    \n",
    "                    memory[i+1].append(1) #keeps parents\n",
    "\n",
    "                    for p in range(k): #reproduces k-pairs\n",
    "                        memory[i+1].append(0)\n",
    "\n",
    "    ans += len(list(memory.values())[-1]) #takes len of last value from memory to get total rabbit pairs\n",
    "\n",
    "    print(ans)\n"
   ]
  },
  {
   "cell_type": "markdown",
   "metadata": {},
   "source": [
    "![](FIB.jpg \"FIB\")"
   ]
  },
  {
   "cell_type": "markdown",
   "metadata": {},
   "source": [
    "# Computing GC Content"
   ]
  },
  {
   "cell_type": "code",
   "execution_count": 32,
   "metadata": {},
   "outputs": [],
   "source": [
    "def run(fasta_str):\n",
    "\n",
    "    fasta_str_2 = fasta_str.splitlines()\n",
    "\n",
    "    highest_count = 1\n",
    "\n",
    "    highest_GC = .001\n",
    "\n",
    "    highest_asc = ''\n",
    "\n",
    "    current_count = 0\n",
    "\n",
    "    current_GC = 0\n",
    "\n",
    "    current_asc = ''\n",
    "\n",
    "    initial = True\n",
    "\n",
    "    for i in fasta_str_2:\n",
    "        for j in i:        \n",
    "            if j == '>':\n",
    "                if initial == True:\n",
    "                    current_asc = i[1:14]\n",
    "                    initial = False\n",
    "\n",
    "                elif (current_GC / current_count) > (highest_GC / highest_count):\n",
    "                    highest_count = current_count\n",
    "                    highest_GC = current_GC\n",
    "                    highest_asc = current_asc\n",
    "                    current_GC = 0\n",
    "                    current_count = 0\n",
    "                    current_asc = i[1:14]\n",
    "\n",
    "                else:\n",
    "                    current_asc = i[1:14]\n",
    "                    current_GC = 0\n",
    "                    current_count = 0\n",
    "\n",
    "            elif j == 'G' or j == 'C':\n",
    "                current_GC += 1\n",
    "                current_count += 1\n",
    "\n",
    "            elif j == 'A' or j == 'T':\n",
    "                current_count += 1\n",
    "            \n",
    "\n",
    "\n",
    "    print(highest_asc)\n",
    "    print(f'{(highest_GC / highest_count) * 100}')"
   ]
  },
  {
   "cell_type": "markdown",
   "metadata": {},
   "source": [
    "![](GC.jpg \"GC\")"
   ]
  },
  {
   "cell_type": "markdown",
   "metadata": {},
   "source": [
    "# Counting Point Mutations"
   ]
  },
  {
   "cell_type": "code",
   "execution_count": 33,
   "metadata": {},
   "outputs": [],
   "source": [
    "def run(s,t):  \n",
    "\n",
    "\n",
    "    t_index = 0\n",
    "\n",
    "    hamming_distance = 0\n",
    "\n",
    "    for i in s:\n",
    "        try:\n",
    "            if t[t_index] != i:\n",
    "                hamming_distance +=1\n",
    "                t_index += 1\n",
    "            else:\n",
    "                t_index += 1\n",
    "        except:\n",
    "            pass\n",
    "\n",
    "    print(hamming_distance)"
   ]
  },
  {
   "cell_type": "markdown",
   "metadata": {},
   "source": [
    "![](HAMM.jpg \"HAMM\")"
   ]
  },
  {
   "cell_type": "markdown",
   "metadata": {},
   "source": [
    "# Mendel's First Law"
   ]
  },
  {
   "cell_type": "code",
   "execution_count": 34,
   "metadata": {},
   "outputs": [
    {
     "name": "stdout",
     "output_type": "stream",
     "text": [
      "0.7735507246376812\n"
     ]
    }
   ],
   "source": [
    "f = open('mendal.txt', 'r')\n",
    "ints = f.readline()\n",
    "ints = ints.split(\" \")\n",
    "k = float(ints[0])\n",
    "m = float(ints[1])\n",
    "n = float(ints[2])\n",
    "total = k + m + n\n",
    "\n",
    "#all Dominant\n",
    "k_first = k / total\n",
    "kk = k_first * ((k - 1) / (total - 1))\n",
    "km = k_first * ((m) / (total - 1))\n",
    "kn = k_first * ((n) / (total - 1))\n",
    "\n",
    "#odds dominant in cross\n",
    "m_first = m / total\n",
    "mk = m_first * ((k) / (total - 1))\n",
    "mm = m_first * ((m-1) / (total - 1)) * 0.75\n",
    "mn = m_first * (n / (total - 1)) * 0.50\n",
    "\n",
    "#odds dominant in other cross\n",
    "n_first = n / total\n",
    "nk = n_first * (k / (total - 1))\n",
    "nm = n_first * (m / (total - 1)) * 0.5\n",
    "nn = n_first * (n - 1 / (total - 1)) * 0\n",
    "\n",
    "prob_dominant = kk + km + kn + mk + mm + mn + nk + nm + nn\n",
    "\n",
    "print(prob_dominant)\n"
   ]
  },
  {
   "cell_type": "markdown",
   "metadata": {},
   "source": [
    "![](mendal1.jpg \"Mendal\")"
   ]
  },
  {
   "cell_type": "markdown",
   "metadata": {},
   "source": [
    "# Translating RNA into Protein"
   ]
  },
  {
   "cell_type": "code",
   "execution_count": 38,
   "metadata": {},
   "outputs": [
    {
     "name": "stdout",
     "output_type": "stream",
     "text": [
      "MHVRPRTGREELQHSTARDKKVSFKGSWKGRGRRATVRILVSTRSQELGGRGNRLSYEVTCSAIMRVDLINIQRTKTARERQLAIDVGLPILLMSECCLISLNDIQIVYHSLPNQLSPHSVSSSTYLFIVLQTPPGNGGRTPRFTTACATQRASLKTDLFVVRGGAASDTKRSLFVTISLMSACTIEPGAAKCTFKQWTAHTPGTFTCNIFVHFTRDVALDLARTIPNVRHTGYPKGWPLDCRRALQFVGYILVSPPAKSVLVQMMLCRMGFLIEREKSRSGCSKNRAVTLCYGSDHPMSFLCCEREFYGNLKCLGAECPYTRRGVRQSRQSLMLSASVAEHANLRNSVALLPKITIHTWDWRDWSGPRCKHETTIDIRFLMCSPSGLAPQRGMGFSGCNPRSLRTKIKFPFSSFIELQHLLVRYSGWSALYFADIVDTNTSAKQIMTPCASAPSAGATPCRGYGNDVGLFPAQLYGFSSFRPYTCVTGPAHRDILHNFNGLPYTILVGEWSLRQRCCIVNIGSSYTTSTRWPGLIRLVVSRQSSLQAASGFVVAETSLRLLTWMHPVLAFRARLGTVDSKTIMDVSARVERDVVHQTAGEIGFPMQIAVTWRYDFECVHIGGTKLSNYEVTGQVSWDGQTLPRRRYNTSPAAKVFGDPVNFCGKLNLRKQSLLLFHNAMLHFESIPLIIQGLRVRTPSACTRRSPALCHTQTPNSSTHTICVPTHPSFTVVASKSSEYSSGSLYASVLRVRSARPPLNVNVPRERTPLTDSLADSPPTLRMRENQEMGSAFPGNHAYKQVCAMQFCEMTRYAGQVRQALQTKIRGAKTWSWRRRCTITPINYKCETSDFTGNLLSEIEFSVLGPSLRSRVVTVICSKQQPIKVADVHHNKTEHPNSAFSAFPLWTDWSRICHYFTKRRQPRGLLGKALIIRMNEAGSERVLRSLTGRPSTLPYASSTMGLDCILLGKVFPHVYAMPIPTLPLSSSHLLPIFLFIKHRGEIDGGIQRQCARLMFVYWTSGGQSWERKIYKVFSRPFTSQRTLVVQGTAHSVSSGVAKASSPSEQSCSEALRLAFYRVATAQSHCQTEGATRKGLSSGGKAHALLISPIPFQAADTGYEEDTNWQKNTARSIGCHYSLKMGQLYCTHFLQRISGVTESSRVQLRDRVNPDMCFCLPAGQQFLSYFPHGRVMVLIRSPNRTTLPAPIPERPRHSSVSEGARTAVYSIANSQTTSAERTDTLVSSCGQLPQPQSDCLCGELQEHLCQSEVARWICVLLSPLNETANPQTSNFGPYVIHTISTAMITKHDTTSPLNMSSTTVRTDIGRPALKDRATGNETAGNTFCDTQFGIPRSYRTSMAAYVSARFALGTCSDRPAIRKKLETMAFSLQSSPRHRAPKLMRRLSEVRGSPLSRECYWLNTFRRDTSSHLDPNEYEFLDSNNTPLKLSTAHGSDLTSAGAAKVLEDACIQQRGVTSFLMEIGCRHLAQTTGTIARTSRVAMAWLRDLQSSSLRAKGIAWSAEGHASVEGIELIITFRQVRQKITNTSNNKSSPRTTDCRHLYPFPASSSTESNLILATTTGSVLWVHATKKLVIGRGLRGKFASYLAMCTVRHRFSRRFRVYNVQRFSCILESTEVGSNRGAYPHCPARQARLDEGRAQTLTHPDGTGQIPITSAPRTCIRRTQNFTVLYPYVYTLPRHSKWVAHCVRCPSLTSRPSGEGCGSYVSREVLAAAVSFRDGCPIYYGGTRLEKLRHGIDTHLSAQPLLSRNMTTSRLSPRVIVQEPYVRAHPHDAYCAKVVGRRTLLRIKSHITPVDIYSRYLSRYLIVSLPRLVGNCPSSSCIYPTLGPWTRNECLHYQGFAPLLTAKTTPVGRSLLRHSFNRVLLVLWLSVMSELRLPPTISDSGPVVGVFNPQLPGRLLHNSRVRVPIVRVINRYRGTRKGQGRSSFFRVVTAFDTATPSPKWSRQCGAQSDTYIRLDLVSLGALPMPQIFLTEHFFIAPGPQLRHFAASEKTDSSRTKFGTSEQVPIPVHAVGKDQNRKEGGCGHGKVKCIHGEPPIIGNSARSGATLGPMGIMNPSGLLPEEKRLVRRTDTWWRTYSGNLDYCSREFPRLPFKLAWARLIDPPYSYCRSICCRRSLKREFSVGCLTLSRVTDTSGASLYEGSLAFDVAEVSDFGPTIIVCVAMGLGVKSLSSKLSSPLSPPHDLRLRLATPFNWGPSARKTSSPFLPLSRYPYSANGYRLQLQAALSTVGPVVMSNLFLTVTALYRDVCRFTHGTTRRDLAKASGVIMPNVKSVEITQSRSRYNVPLFFCTKSPLVDASQYHIWRTYTERYRNALSPVYEMQRSLTTQYESGCAIECLTICPPTTIKFLLSIWRHDTDQPSRRDLARGTPSRRHVKFYHPYGARVTRYNVRGDVRDGSCPVDQDKPPLHSSDPYNQTRTPQARTADYYALVLFTSQSRRAGECHTAAHTSLLEVSVGISRLDTGFGHSPSLEQSIIGTLLRNLCGRFPSYDQSGATLRCTAFTKSVISRSRPESQRSAVIFWATAESYSTVWSLTESSSRLKNRLSLLPAEHATCRGDSRCVIALSQAHSPPVVAIVYPCLPCTDVRTRSRYISHRSPSRDVRVSKGQVPMIFPFSYVIMKTGAYPPQGGRQTHRDNRGEKRTGRGRSRYCSLGEPYRQATRSRLLLQTSRTGYQKTVSLFISPGYCPTPSTSYFNFRWNNRTVANGERQLRSVPQNRTTHHTHRMSTIGKVSYSPSGVVLPESNTRPSEGNSMPRALASLDRRRFARHNHDLEPQMCEIYTTGPRNPWVPKCRKTAWISILSREEYDSHLLIGIISVVIRRQWALPCFILGASHTQTSRTVFVSRQRSGMLFLLFRSLRHFYIYINFDSRTDGILRRRSAIVLFGIGPSLGADKGRADTRCRAMYTSRILRCPCWMWTLADEGKQCYHLLSRVTTTLASLMKLFLQRGGPKLALSYKPFVQRTNEPHQGTLKSPDAAHHDQRDLMATCSWVSIPVDDYMGTFPTLALFLRHRDTSVIPRCRPDPGVDPGKCKSSLLFSLPMVSKHSIGYSSGVQHIDILSRFACNIEASVPHDDPSFEIKVAGIYGNTLEAAGNECNKTSYARYITRLVGIPQHFHPTLLELSEDSIKILADRRTARGHNLRIYGHLLNIQRSLPRTLLSAHKVMAYGPGIEPDPNGCIRVLIKGRSIRIHPQQAMVPHWPTDDVPVCRAL\n"
     ]
    }
   ],
   "source": [
    "from textwrap import wrap\n",
    "\n",
    "RNA_CODON_TABLE = {\n",
    "    'UUU': 'F',     'CUU': 'L',     'AUU': 'I',     'GUU': 'V',\n",
    "    'UUC': 'F',     'CUC': 'L',     'AUC': 'I',     'GUC': 'V',\n",
    "    'UUA': 'L',     'CUA': 'L',     'AUA': 'I',     'GUA': 'V',\n",
    "    'UUG': 'L',     'CUG': 'L',     'AUG': 'M',     'GUG': 'V',\n",
    "    'UCU': 'S',     'CCU': 'P',     'ACU': 'T',     'GCU': 'A',\n",
    "    'UCC': 'S',     'CCC': 'P',     'ACC': 'T',     'GCC': 'A',\n",
    "    'UCA': 'S',     'CCA': 'P',     'ACA': 'T',     'GCA': 'A',\n",
    "    'UCG': 'S',     'CCG': 'P',     'ACG': 'T',     'GCG': 'A',\n",
    "    'UAU': 'Y',     'CAU': 'H',     'AAU': 'N',     'GAU': 'D',\n",
    "    'UAC': 'Y',     'CAC': 'H',     'AAC': 'N',     'GAC': 'D',\n",
    "    'UAA': 'Stop',  'CAA': 'Q',     'AAA': 'K',     'GAA': 'E',\n",
    "    'UAG': 'Stop',  'CAG': 'Q',     'AAG': 'K',     'GAG': 'E',\n",
    "    'UGU': 'C',     'CGU': 'R',     'AGU': 'S',     'GGU': 'G',\n",
    "    'UGC': 'C',     'CGC': 'R',     'AGC': 'S',     'GGC': 'G',\n",
    "    'UGA': 'Stop',  'CGA': 'R',     'AGA': 'R',     'GGA': 'G',\n",
    "    'UGG': 'W',     'CGG': 'R',     'AGG': 'R',     'GGG': 'G'\n",
    "}\n",
    "\n",
    "f = open('rna_prot.txt')\n",
    "\n",
    "content = f.read()\n",
    "\n",
    "content_split = wrap(content, 3)\n",
    "\n",
    "\n",
    "protein_string = []\n",
    "\n",
    "for i in content_split:\n",
    "    if RNA_CODON_TABLE[i] == 'Stop':\n",
    "        break\n",
    "    else:\n",
    "        protein_string.append(RNA_CODON_TABLE[i])\n",
    "\n",
    "ans = ''.join(protein_string)\n",
    "\n",
    "print(ans)"
   ]
  },
  {
   "cell_type": "markdown",
   "metadata": {},
   "source": [
    "![](rna_prot.jpg \"rna_prot\")"
   ]
  },
  {
   "cell_type": "markdown",
   "metadata": {},
   "source": [
    "# Finding a Motif in DNA"
   ]
  },
  {
   "cell_type": "code",
   "execution_count": 44,
   "metadata": {},
   "outputs": [
    {
     "name": "stdout",
     "output_type": "stream",
     "text": [
      "78 104 129 169 176 212 281 370 386 413 431 509 541 548 639 646 682 689 802 857 896 906 \n"
     ]
    }
   ],
   "source": [
    "s = 'AAACCGCTATGAACACGACATCAACGCTGGTACATAGCCAGAGCGAGATCAACGCAATCAACGAGACATCAACGAGCATCAACGATCAACGTGATCAACGCTGATCAACGATCAACGGTAATCAACGCATCAACGATCAACGACTCAAATCAACGACATCAACGCTACATCAACGATCAACGATAATCAACGAGGATCAACGGCAAGAATGATCAACGATCAACGACGGCCTTGATCAACGGATCAACGAATCAACGCGAATCAACGTAAAATCAACGGGATCAACGATCAACGTCATCAACGTGATCAACGCGACAATCAACGACCATCAACGGGGATATCAACGGGAACATCAACGACATCAACGAAATCAACGATCAACGCGATCAACGATCAACGAGTGAATCAACGTATCAACGATCAACGGGTTATCAACGATATCAACGCATCAACGGGGATCAACGCATCAACGCTTGAGGCACCGTACATCAACGAATCAACGCTTATGATCAACGATCAACGCGCAAGCATCAACGTCTAATCAACGATCAACGATCAACGCGGCTGCATCAACGGTGATCAACGAATCAACGGGATCAACGCAAAATCAACGCATCAACGTGACTTTTTATCAACGAATCAACGATCAACGATTTATCAACGAATCAACGCCATCAACGCATCAACGATCAACGATCAACGAAATCAACGGTCGAGAGATAGAATCAACGAGTTTTAGTAATCAACGAGATCAACGGGATCAACGCTATCAACGACTTCATCAACGGATCAACGCTGGCCATCAACGATCAACGTTATCAACGTTACAATCAACGTATCAACGAACATCAACGCAATCAACGATCAACGAGTTTTGATCAACGTGAGTACCTCTATCAACGATGATCAACGATAGGTTAAGATCAACGAGTTTAATTGAATTCATCAACGTTCTAATCAACGTCATCAACGGAAGATGATCAACG'\n",
    "t = 'ATCAACGAT'\n",
    "\n",
    "s_index = 0\n",
    "\n",
    "positioning = []\n",
    "\n",
    "current_i = []\n",
    "\n",
    "for i in s:\n",
    "    current_i.append(i)\n",
    "    if t[0] == s[s_index]:\n",
    "        if t[0:(len(t))] == s[s_index:(s_index + (len(t)))]:\n",
    "            positioning.append(s_index + 1)\n",
    "            s_index += 1\n",
    "        else:\n",
    "            s_index += 1\n",
    "    else:\n",
    "        s_index += 1\n",
    "\n",
    "ans = ''\n",
    "\n",
    "for i in positioning:\n",
    "    ans += f'{i} ' \n",
    "\n",
    "print(ans)\n"
   ]
  },
  {
   "cell_type": "markdown",
   "metadata": {},
   "source": [
    "![](motif.jpg \"motif\")"
   ]
  },
  {
   "cell_type": "markdown",
   "metadata": {},
   "source": [
    "# \tCalculating Expected Offspring"
   ]
  },
  {
   "cell_type": "code",
   "execution_count": 45,
   "metadata": {},
   "outputs": [
    {
     "name": "stdout",
     "output_type": "stream",
     "text": [
      "158692.5\n"
     ]
    }
   ],
   "source": [
    "#sloppy solution but it works\n",
    "f_content = [19268, 17502, 19824, 18891, 17168, 19969]\n",
    "\n",
    "a = 1\n",
    "b = 1\n",
    "c = 1\n",
    "d = 0.75\n",
    "e = 0.5\n",
    "f = 0 \n",
    "\n",
    "total_perc = 0\n",
    "\n",
    "total_pop = 0\n",
    "\n",
    "i_counter = 0\n",
    "\n",
    "for i in f_content:\n",
    "    if i_counter == 0:\n",
    "        i_counter += 1\n",
    "        total_perc += (a * i)\n",
    "        total_pop += (i)\n",
    "\n",
    "    elif i_counter == 1:\n",
    "        i_counter += 1\n",
    "        total_perc += (b * i)\n",
    "        total_pop += (i)\n",
    "\n",
    "    elif i_counter == 2:\n",
    "        i_counter += 1\n",
    "        total_perc += (c * i)\n",
    "        total_pop += (i)\n",
    "\n",
    "    elif i_counter == 3:\n",
    "        i_counter += 1\n",
    "        total_perc += (d * i)\n",
    "        total_pop += (i)\n",
    "\n",
    "    elif i_counter == 4:\n",
    "        i_counter += 1\n",
    "        total_perc += (e * i)\n",
    "        total_pop += (i)\n",
    "\n",
    "    elif i_counter == 5:\n",
    "        i_counter += 1\n",
    "        total_perc += (f * i)\n",
    "        total_pop += (i)\n",
    "\n",
    "ans = (total_perc / total_pop) * (total_pop * 2)\n",
    "\n",
    "print(ans)"
   ]
  },
  {
   "cell_type": "markdown",
   "metadata": {},
   "source": [
    "![](offspring.jpg \"offspring\")"
   ]
  }
 ],
 "metadata": {
  "interpreter": {
   "hash": "52a7b1256baadbcfded298829fa032c6e5eb5320512cda093e76546fdb1847e3"
  },
  "kernelspec": {
   "display_name": "Python 3.8.8 64-bit ('base': conda)",
   "name": "python3"
  },
  "language_info": {
   "codemirror_mode": {
    "name": "ipython",
    "version": 3
   },
   "file_extension": ".py",
   "mimetype": "text/x-python",
   "name": "python",
   "nbconvert_exporter": "python",
   "pygments_lexer": "ipython3",
   "version": "3.8.8"
  },
  "orig_nbformat": 4
 },
 "nbformat": 4,
 "nbformat_minor": 2
}
