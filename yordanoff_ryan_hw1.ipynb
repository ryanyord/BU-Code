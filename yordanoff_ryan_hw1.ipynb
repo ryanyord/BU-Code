{
 "cells": [
  {
   "cell_type": "markdown",
   "id": "f056191f",
   "metadata": {},
   "source": [
    "Problem Set 1 - Ryan Yordanoff"
   ]
  },
  {
   "cell_type": "markdown",
   "id": "aa00435f",
   "metadata": {},
   "source": [
    "# Problem 1"
   ]
  },
  {
   "cell_type": "code",
   "execution_count": 2,
   "id": "a2f498a4",
   "metadata": {
    "scrolled": true
   },
   "outputs": [
    {
     "name": "stdout",
     "output_type": "stream",
     "text": [
      "[[1], [1, 1], [1, 2, 1], [1, 3, 3, 1], [1, 4, 6, 4, 1], [1, 5, 10, 10, 5, 1], [1, 6, 15, 20, 15, 6, 1]]\n",
      "\n",
      "20\n",
      "\n",
      "       1        \n",
      "      1 1       \n",
      "     1 2 1      \n",
      "    1 3 3 1     \n",
      "   1 4 6 4 1    \n",
      " 1 5 10 10 5 1  \n",
      "1 6 15 20 15 6 1\n",
      "\n"
     ]
    }
   ],
   "source": [
    "#Problem 1 - Ryan Yordanoff\n",
    "class binomial_coefficients:\n",
    "    \"\"\"Class to compute binomial_coefficients from pascal's triangle\"\"\"\n",
    "    \n",
    "    coefficients_memory = {} \n",
    "\n",
    "    #generates pascals triangle as a list of lists\n",
    "    def get_n(self, n):\n",
    "\n",
    "        ans = []\n",
    "        prev_ans = []\n",
    "        working_ans = []\n",
    "\n",
    "        #if n has already been calculated, previous calculation will return from internal variable\n",
    "        if n in self.coefficients_memory:\n",
    "            return self.coefficients_memory[n]\n",
    "\n",
    "        #list of lists calculation    \n",
    "        else:\n",
    "            for i in range(0, n+2):\n",
    "                if i == 1:\n",
    "                    ans.append([1])\n",
    "                elif i == 2:\n",
    "                    ans.append([1,1])\n",
    "                    prev_ans.append(1)\n",
    "                    prev_ans.append(1)\n",
    "                else:\n",
    "                    for j in range(i):\n",
    "                        if j == 0:\n",
    "                            working_ans.append(1)\n",
    "                        elif j == range(i)[-1]:\n",
    "                            working_ans.append(1)\n",
    "                            ans.append(working_ans)\n",
    "                            prev_ans = working_ans\n",
    "                            working_ans = []\n",
    "                        else:\n",
    "                            working_ans.append((prev_ans[j-1]+prev_ans[j]))\n",
    "\n",
    "            self.coefficients_memory[n] = ans\n",
    "            return ans\n",
    "    \n",
    "    #returns coefficient from row (n) and column (k)\n",
    "    def get_nk(self, n, k):\n",
    "        return self.get_n(n)[n][k]\n",
    "\n",
    "    #saves a centered/formated pascals triangle to .txt file\n",
    "    def save_pt(self, n, file_name = 'pascal_triangle.txt'):\n",
    "        with open(file_name,'w+') as f:\n",
    "            if n == 0:\n",
    "                f.write(str(1))\n",
    "            else:\n",
    "                largest = len(' '.join(map(str,self.get_n(n)[-1])))\n",
    "                for i in self.get_n(n):\n",
    "                    f.write(' '.join(map(str,i)).center(largest)+'\\n')\n",
    "\n",
    "\n",
    "#Tests to demonstrate working code\n",
    "triangle_example = binomial_coefficients()\n",
    "\n",
    "print(triangle_example.get_n(6))\n",
    "print()\n",
    "print(triangle_example.get_nk(6,3))\n",
    "print()\n",
    "triangle_example.save_pt(6)\n",
    "with open('pascal_triangle.txt') as f:\n",
    "    print(f.read())\n"
   ]
  },
  {
   "cell_type": "markdown",
   "id": "c7f0521b",
   "metadata": {},
   "source": [
    "# Problem 2"
   ]
  },
  {
   "cell_type": "code",
   "execution_count": 5,
   "id": "89da58b1",
   "metadata": {},
   "outputs": [
    {
     "name": "stdout",
     "output_type": "stream",
     "text": [
      "Number of samples available for just the first visit: 1685\n",
      "\n",
      "SampleIDs for Anterior_nares.txt:\n",
      "700014445, 700014527, 700014767, 700014797, 700014923, 700015007, 700015082, 700015167, 700015233, 700015299, 700015454, 700015675, 700015756, 700016050, 700016138, 700016140, 700016313, 700016354, 700016662, 700016920, 700021682, 700023074, 700023174, 700023242, 700023395, 700023452, 700023556, 700023639, 700023706, 700023877, 700023924, 700023972, 700024085, 700024239, 700024295, 700024407, 700024448, 700024497, 700024544, 700024592, 700024651, 700024688, 700024804, 700024851, 700024907, 700024955, 700033033, 700033148, 700033490, 700033744, 700037031, 700037089, 700037138, 700037190, 700037356, 700037404, 700037450, 700037538, 700037686, 700037810, 700038010, 700038228, 700038343, 700038450, 700038498, 700038593, 700038917, 700038955, 700095371, 700095428, 700095974, 700096065, 700096284, 700096586, 700096608, 700097252, 700097309, 700097433, 700097649, 700098285, 700098377, 700098950, 700099020, 700099077, 700099460, 700099608, 700100245, 700101656, 700102103, 700102260, 700102603, 700102923, 700103275, 700103445, 700103563, 700103620, 700103668, 700105035, 700105149, 700105263, 700105370, 700105415, 700105569, 700105681, 700105738, 700105833, 700105881, 700105987, 700106061, 700106118, 700106338, 700106411, 700106489, 700106547, 700106614, 700106662, 700106805, 700106872, 700106945, 700107207, 700107834, 700108056, 700108302, 700108491, 700108800, 700108972, 700109125, 700109335, 700109401, 700109467, 700109768, 700109825, 700109882, 700110005, 700110173, 700110239, 700110371, 700110437, 700110605, 700110662, 700110719, 700110830, 700111044, 700111457, 700111523, 700111592, 700111829, 700113012, 700113071, 700113119, 700113499, 700113652, 700114015, 700114120, 700114167, 700114217, 700114272, 700114328, 700114386, 700114428, 700114488, 700114554, 700114611, 700114658, 700114706, 700114755, 700114803, 700114860, 700114907, 700114965, \n",
      "\n",
      "SampleIDs for Stool.txt:\n",
      "700013549, 700014386, 700014488, 700014497, 700014555, 700014718, 700014828, 700014832, 700014954, 700015113, 700015179, 700015245, 700015386, 700015390, 700015394, 700015702, 700015979, 700016000, 700016004, 700016008, 700016136, 700016542, 700016608, 700016902, 700021295, 700021677, 700021902, 700023066, 700023188, 700023237, 700023290, 700023447, 700023509, 700023551, 700023634, 700023701, 700023815, 700023872, 700023919, 700023967, 700024024, 700024086, 700024141, 700024201, 700024234, 700024296, 700024349, 700024408, 700024449, 700024492, 700024545, 700024593, 700024646, 700024689, 700024732, 700024846, 700024908, 700024966, 700033130, 700033436, 700033726, 700037008, 700037090, 700037123, 700037198, 700037303, 700037357, 700037405, 700037453, 700037539, 700037700, 700037814, 700037967, 700038021, 700038231, 700038354, 700038445, 700038493, 700038594, 700038702, 700038741, 700038956, 700095353, 700095410, 700095774, 700095956, 700096047, 700096267, 700096568, 700096590, 700097116, 700097234, 700097291, 700097570, 700097631, 700097754, 700098359, 700098932, 700099002, 700099059, 700099590, 700099746, 700100227, 700101638, 700102242, 700102585, 700102905, 700103289, 700103446, 700103479, 700103558, 700103621, 700103672, 700105049, 700105153, 700105210, 700105274, 700105312, 700105355, 700105421, 700105468, 700105580, 700105613, 700105685, 700105739, 700105787, 700105834, 700105882, 700105991, 700106018, 700106065, 700106132, 700106229, 700106291, 700106333, 700106412, 700106437, 700106504, 700106551, 700106615, 700106663, 700106701, 700106754, 700106809, 700106876, 700106946, 700106979, 700107189, 700107816, 700107993, 700108284, 700108473, 700108954, 700109107, 700109230, 700109317, 700109383, 700109750, 700109807, 700110155, 700110221, 700110287, 700110353, 700110419, 700110587, 700110644, 700110701, 700110812, 700111026, 700111505, 700111574, 700111811, 700113013, 700113066, 700113503, 700113542, 700113599, 700114000, 700114105, 700114162, 700114218, 700114267, 700114387, 700114442, 700114489, 700114615, 700114717, 700114750, 700114798, 700114855, 700114911, \n"
     ]
    }
   ],
   "source": [
    "#Homework 1 - Problem 2\n",
    "#data from https://hmpdacc.org/hmp/HMQCP/ and download the mapping file for v13 region\n",
    "\n",
    "raw_lines = []\n",
    "\n",
    "split_lines = []\n",
    "\n",
    "visit_no1_count = 0\n",
    "\n",
    "#adding all lines of data file to a list\n",
    "with open('v13_map_uniquebyPSN.txt') as f:\n",
    "    for line in f:\n",
    "            raw_lines.append(line)            \n",
    "\n",
    "#processing raw_lines to be a new tab delimited list\n",
    "for i in raw_lines:\n",
    "    split_lines.append(i.split('\\t'))\n",
    "\n",
    "for i in split_lines:\n",
    "    for j in i:\n",
    "        if j == '1':\n",
    "            visit_no1_count += 1\n",
    "\n",
    "\n",
    "print(f'Number of samples available for just the first visit: {visit_no1_count}')\n",
    "\n",
    "body_sites = {}\n",
    "\n",
    "#creates a dictionary with keys being body sites and values being SampleID\n",
    "for i in split_lines:\n",
    "    if i[5] in body_sites:\n",
    "        body_sites[i[5]].append(i[0]) #only adding sampleID column\n",
    "\n",
    "    else:\n",
    "        body_sites[i[5]] = []\n",
    "        body_sites[i[5]].append(i[0])\n",
    "\n",
    "#removes the header\n",
    "body_sites.pop('HMPbodysubsite')\n",
    "\n",
    "#creates a new file .txt for each body site with corresponding SampleIDs\n",
    "for i in body_sites:\n",
    "    with open(f'{i}.txt', 'w') as f:\n",
    "        for j in body_sites.get(i):\n",
    "            f.write(str(j)+ ', ')\n",
    "            \n",
    "            \n",
    "#Tests to demonstrate working code\n",
    "print()\n",
    "print('SampleIDs for Anterior_nares.txt:')\n",
    "with open('Anterior_nares.txt') as f:\n",
    "    print(f.read())\n",
    "    \n",
    "print()\n",
    "print('SampleIDs for Stool.txt:')\n",
    "with open('Stool.txt') as f:\n",
    "    print(f.read())"
   ]
  }
 ],
 "metadata": {
  "kernelspec": {
   "display_name": "Python 3",
   "language": "python",
   "name": "python3"
  },
  "language_info": {
   "codemirror_mode": {
    "name": "ipython",
    "version": 3
   },
   "file_extension": ".py",
   "mimetype": "text/x-python",
   "name": "python",
   "nbconvert_exporter": "python",
   "pygments_lexer": "ipython3",
   "version": "3.8.8"
  }
 },
 "nbformat": 4,
 "nbformat_minor": 5
}
