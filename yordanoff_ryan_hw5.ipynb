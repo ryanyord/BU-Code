{
 "cells": [
  {
   "cell_type": "markdown",
   "metadata": {},
   "source": [
    "## Problem Set 5 - Ryan Yordanoff - BF550"
   ]
  },
  {
   "cell_type": "markdown",
   "metadata": {},
   "source": [
    "# Problem 1\n",
    "Let’s pretend that we are designing a veterinary trial for a vaccine against Hepatitis E for pigs. The\n",
    "probability to become infected following an exposure is pc = 0.5 for untreated pigs. The developer of the\n",
    "vaccine believes that this probability is reduced to pv = 0.1 following vaccination. The control and treatment\n",
    "arms have the same number of pigs, N, and the statistical significance is evaluated via a permutation test.\n",
    "How should we choose N to ensure that we have approximately 90% chance of seeing a difference between\n",
    "the control and treatment arms that is significant at α = 0.05 level?"
   ]
  },
  {
   "cell_type": "code",
   "execution_count": 15,
   "metadata": {},
   "outputs": [],
   "source": [
    "import numpy as np\n",
    "from numpy import random\n",
    "\n",
    "def control(n):\n",
    "    \"\"\"Simulates a Hepatitis E exposure probability of 50% and returns a list of n pigs\n",
    "    with: no infection = 0 and infection = 1\"\"\"\n",
    "    pigs = []\n",
    "\n",
    "    for i in range(n):\n",
    "        roll = random.random()\n",
    "        if roll >= .5: #not infected\n",
    "            pigs.append(0)\n",
    "        else:\n",
    "            pigs.append(1) #infected\n",
    "\n",
    "    return pigs\n",
    "\n",
    "\n",
    "def vaccination(n):\n",
    "    \"\"\"Simulates a vaccinated Hepatitis E exposure probability of 10% and returns a\n",
    "    list of n pigs with: no infection = 0 and infection = 1\"\"\"\n",
    "    pigs = []\n",
    "    \n",
    "    for i in range(n):\n",
    "        roll = random.random()\n",
    "        if roll >= .1: #not infected\n",
    "            pigs.append(0)\n",
    "        else:\n",
    "            pigs.append(1) #infected\n",
    "\n",
    "    return pigs\n",
    "\n",
    "def permutation_test(c,v,p=2000 ):\n",
    "    \"\"\"Takes 2 lists c (control) & v (vaccinated) and performs permuation test \n",
    "    with # of permutations = p.  Returns the initial test statistic in index 0 and\n",
    "    a list including a test statistic from each permutation\"\"\"\n",
    "    initial_test_difference = abs(np.average(c) - np.average(v))\n",
    "    all_pigs = c + v\n",
    "    permutation_results = []\n",
    "\n",
    "\n",
    "    for i in range(p):\n",
    "        random.shuffle(all_pigs)\n",
    "        first_half = all_pigs[:int((len(all_pigs))/2)]\n",
    "        second_half = all_pigs[int((len(all_pigs))/2):]\n",
    "        permutation_results.append(abs(np.average(first_half)-np.average(second_half)))\n",
    "\n",
    "    return initial_test_difference, permutation_results\n",
    "\n",
    "def permutation_test_pval(b,a):\n",
    "    \"\"\"Takes an initial test statistic = b and determines p-value from list of\n",
    "    test statistics from permutation results = a.\"\"\"\n",
    "    more_extreme_count = 0    \n",
    "    \n",
    "    for i in a:\n",
    "        if i > b:\n",
    "            more_extreme_count += 1\n",
    "\n",
    "    pval = more_extreme_count/len(a)\n",
    "    \n",
    "    return pval\n",
    "\n",
    "\n",
    "def p_val_simulator(n, r=2000, a=0.05):\n",
    "    \"\"\"For number of pigs (n) this runs a permutation test (permutation_test) r times\n",
    "    and determines p-value (permutation_test_pval) r times. Each run (r) significance is\n",
    "    determined at significance level threshold (a).  \n",
    "    Value returned = Percentage there is a statistically significant difference for n pigs.\n",
    "      \"\"\"\n",
    "    significant = [] #0 = non-significant 1 = significant\n",
    "\n",
    "    for i in range(r):\n",
    "        vaccinated_group = vaccination(n)\n",
    "        control_group = control(n)\n",
    "        temp_perm = permutation_test(control_group, vaccinated_group)\n",
    "        p_val = permutation_test_pval(temp_perm[0],temp_perm[1])\n",
    "\n",
    "        if p_val < a:\n",
    "            significant.append(1)\n",
    "        else:\n",
    "            significant.append(0)\n",
    "    \n",
    "    percent_pass_permuation_test = significant.count(1)/(len(significant))\n",
    "\n",
    "    return percent_pass_permuation_test\n",
    "\n",
    "def multi_pval_simulator(n,r=20):\n",
    "    \"\"\"Runs p_val_simulator r times for n pigs.\n",
    "    Value returned = Percentage there is a statistically significant difference for n pigs.\n",
    "    \"\"\"\n",
    "    percentages = []\n",
    "\n",
    "    for i in range(r):\n",
    "        percentages.append(p_val_simulator(n))\n",
    "\n",
    "    return np.average(percentages)\n",
    "\n",
    "def range_p_val_simulator(l,m):\n",
    "    \"\"\"Tests a range of n values for Percentage there is a statistically significant\n",
    "    difference for n pigs.\n",
    "    l = the lower bound of the range and m = the upper bound of the range of N \n",
    "    pigs you want to test.\n",
    "    Returns: [index0] List of N values and [index1] list of percentage there is a \n",
    "    statistically significant difference for n pigs\"\"\"\n",
    "    n_value = []\n",
    "    percent = []\n",
    "\n",
    "\n",
    "    for i in range(l,m):\n",
    "        n_value.append(i)\n",
    "        percent.append(p_val_simulator(i))\n",
    "\n",
    "    return n_value, percent\n"
   ]
  },
  {
   "cell_type": "markdown",
   "metadata": {},
   "source": [
    "Distribution of Test-Statistics of a Single Permutation Test"
   ]
  },
  {
   "cell_type": "code",
   "execution_count": 14,
   "metadata": {},
   "outputs": [
    {
     "name": "stdout",
     "output_type": "stream",
     "text": [
      "initial test statistic: 0.38888888888888884\n",
      "P-Value: 0.002\n"
     ]
    },
    {
     "data": {
      "image/png": "[encoded data removed]",
      "text/plain": [
       "<Figure size 432x288 with 1 Axes>"
      ]
     },
     "metadata": {
      "needs_background": "light"
     },
     "output_type": "display_data"
    }
   ],
   "source": [
    "import matplotlib.pyplot as plt\n",
    "N = 18\n",
    "\n",
    "control_1 = control(N)  \n",
    "vaccination_1 = vaccination(N)\n",
    "test1 = permutation_test(control_1, vaccination_1,p=2000)\n",
    "\n",
    "print(f'initial test statistic: {test1[0]}')\n",
    "\n",
    "print(f'P-Value: {permutation_test_pval(test1[0],test1[1])}')\n",
    "\n",
    "plt.hist(test1[1])\n",
    "plt.xlabel('Test Statistic')\n",
    "plt.ylabel('Count')\n",
    "plt.title('Count of Permuation Test-Statistics', fontweight = 'bold', fontsize = 14)\n",
    "plt.axvline(x=test1[0], color = 'red') #red line equal to initial test statistic\n",
    "\n",
    "plt.show()"
   ]
  },
  {
   "cell_type": "markdown",
   "metadata": {},
   "source": [
    "Permutation test with 2000 permutations per run, ran 2000 times at α = 0.05, for a range of N values. Used to determine a suitable value of N at approximately 90% chance of seeing a significant difference between the control and treatment groups.  *Warning the following two calculations took 30 minutes each.*"
   ]
  },
  {
   "cell_type": "code",
   "execution_count": 3,
   "metadata": {},
   "outputs": [
    {
     "name": "stdout",
     "output_type": "stream",
     "text": [
      "([5, 6, 7, 8, 9, 10, 11, 12, 13, 14, 15, 16, 17, 18, 19, 20, 21, 22, 23, 24, 25, 26, 27, 28, 29], [0.7515, 0.67, 0.7035, 0.7325, 0.729, 0.7385, 0.7805, 0.7965, 0.8365, 0.8415, 0.865, 0.859, 0.888, 0.9005, 0.9165, 0.9205, 0.9265, 0.9465, 0.945, 0.949, 0.9475, 0.956, 0.9665, 0.968, 0.9725])\n"
     ]
    }
   ],
   "source": [
    "multi_try = range_p_val_simulator(5,30)\n",
    "\n",
    "print(multi_try)"
   ]
  },
  {
   "cell_type": "code",
   "execution_count": 9,
   "metadata": {},
   "outputs": [
    {
     "data": {
      "image/png": "[encoded data removed]",
      "text/plain": [
       "<Figure size 432x288 with 1 Axes>"
      ]
     },
     "metadata": {
      "needs_background": "light"
     },
     "output_type": "display_data"
    }
   ],
   "source": [
    "import matplotlib.pyplot as plt\n",
    "\n",
    "plt.scatter(multi_try[0],multi_try[1])\n",
    "plt.xlabel('N-Value', fontweight = 'bold')\n",
    "plt.ylabel('Pass Rate', fontweight = 'bold')\n",
    "plt.title('Trial Pass Rate at Different N-Values', fontweight = 'bold', fontsize = 14)\n",
    "plt.axvline(x=18, color='blue')\n",
    "plt.axhline(y=.90, color='red')\n",
    "plt.xticks(range(min(multi_try[0]),max(multi_try[0])+1,1))\n",
    "plt.show()"
   ]
  },
  {
   "cell_type": "code",
   "execution_count": 10,
   "metadata": {},
   "outputs": [],
   "source": [
    "#Used to confirm that there is indeed about 90% chance that the trial passes the statistical test\n",
    "n_equal_18 = multi_pval_simulator(18)"
   ]
  },
  {
   "cell_type": "code",
   "execution_count": 11,
   "metadata": {},
   "outputs": [
    {
     "name": "stdout",
     "output_type": "stream",
     "text": [
      "0.8977499999999999\n"
     ]
    }
   ],
   "source": [
    "print(n_equal_18)"
   ]
  },
  {
   "cell_type": "markdown",
   "metadata": {},
   "source": [
    "With the computations above, I conclude that N = 18 has approximately a 90% chance of seeing a difference between\n",
    "the control and treatment groups."
   ]
  },
  {
   "cell_type": "markdown",
   "metadata": {},
   "source": [
    "# Supplementary Material (to show that code is running correctly)"
   ]
  },
  {
   "cell_type": "code",
   "execution_count": 67,
   "metadata": {},
   "outputs": [
    {
     "name": "stdout",
     "output_type": "stream",
     "text": [
      "[1, 0, 0, 0, 0, 0, 0, 0, 0, 1, 0, 1, 1, 1, 1]\n",
      "[0, 0, 0, 0, 0, 0, 1, 0, 0, 0, 0, 0, 1, 0, 0]\n",
      "(0.2666666666666667, [0.1333333333333333, 0.1333333333333333, 0.1333333333333333, 0.0, 0.1333333333333333, 0.1333333333333333, 0.0, 0.0, 0.1333333333333333, 0.1333333333333333, 0.0, 0.0, 0.2666666666666667, 0.0, 0.1333333333333333, 0.1333333333333333, 0.0, 0.0, 0.1333333333333333, 0.4, 0.1333333333333333, 0.2666666666666667, 0.2666666666666667, 0.2666666666666667, 0.2666666666666667, 0.0, 0.0, 0.1333333333333333, 0.2666666666666667, 0.0, 0.0, 0.1333333333333333, 0.2666666666666667, 0.2666666666666667, 0.1333333333333333, 0.2666666666666667, 0.0, 0.4, 0.0, 0.2666666666666667, 0.0, 0.1333333333333333, 0.1333333333333333, 0.0, 0.2666666666666667, 0.1333333333333333, 0.1333333333333333, 0.2666666666666667, 0.1333333333333333, 0.1333333333333333, 0.1333333333333333, 0.1333333333333333, 0.0, 0.1333333333333333, 0.2666666666666667, 0.1333333333333333, 0.0, 0.0, 0.1333333333333333, 0.1333333333333333, 0.4, 0.1333333333333333, 0.4, 0.2666666666666667, 0.2666666666666667, 0.1333333333333333, 0.1333333333333333, 0.1333333333333333, 0.1333333333333333, 0.2666666666666667, 0.0, 0.0, 0.1333333333333333, 0.0, 0.1333333333333333, 0.0, 0.1333333333333333, 0.2666666666666667, 0.0, 0.1333333333333333, 0.1333333333333333, 0.2666666666666667, 0.1333333333333333, 0.0, 0.1333333333333333, 0.1333333333333333, 0.1333333333333333, 0.0, 0.1333333333333333, 0.4, 0.1333333333333333, 0.2666666666666667, 0.2666666666666667, 0.0, 0.1333333333333333, 0.0, 0.1333333333333333, 0.1333333333333333, 0.2666666666666667, 0.2666666666666667])\n"
     ]
    }
   ],
   "source": [
    "N = 15\n",
    "\n",
    "S_control_1 = control(N)  \n",
    "S_vaccination_1 = vaccination(N)\n",
    "S_test1 = permutation_test(S_control_1, S_vaccination_1,p=100)\n",
    "\n",
    "\n",
    "print(S_control_1)\n",
    "print(S_vaccination_1)\n",
    "print(S_test1)\n",
    "\n"
   ]
  },
  {
   "cell_type": "code",
   "execution_count": 69,
   "metadata": {},
   "outputs": [
    {
     "name": "stdout",
     "output_type": "stream",
     "text": [
      "p-value = 0.05\n"
     ]
    }
   ],
   "source": [
    "S_test2 = permutation_test_pval(S_test1[0],S_test1[1])\n",
    "\n",
    "print(f'p-value = {S_test2}')"
   ]
  },
  {
   "cell_type": "code",
   "execution_count": 74,
   "metadata": {},
   "outputs": [
    {
     "name": "stdout",
     "output_type": "stream",
     "text": [
      "Percent N=15 is significant in simulation: 0.7\n"
     ]
    }
   ],
   "source": [
    "S_test3 = p_val_simulator(15,r=10,a=0.05)\n",
    "\n",
    "print(f'Percent N=15 is significant in simulation: {S_test3}')"
   ]
  }
 ],
 "metadata": {
  "interpreter": {
   "hash": "52a7b1256baadbcfded298829fa032c6e5eb5320512cda093e76546fdb1847e3"
  },
  "kernelspec": {
   "display_name": "Python 3.8.8 64-bit ('base': conda)",
   "language": "python",
   "name": "python3"
  },
  "language_info": {
   "codemirror_mode": {
    "name": "ipython",
    "version": 3
   },
   "file_extension": ".py",
   "mimetype": "text/x-python",
   "name": "python",
   "nbconvert_exporter": "python",
   "pygments_lexer": "ipython3",
   "version": "3.8.8"
  },
  "orig_nbformat": 4
 },
 "nbformat": 4,
 "nbformat_minor": 2
}
