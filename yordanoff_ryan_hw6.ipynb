{
 "cells": [
  {
   "cell_type": "markdown",
   "metadata": {},
   "source": [
    "## BF550 Problem Set 6 - Ryan Yordanoff"
   ]
  },
  {
   "cell_type": "markdown",
   "metadata": {},
   "source": [
    "# Problem 1. Principle Component Analysis"
   ]
  },
  {
   "cell_type": "markdown",
   "metadata": {},
   "source": [
    "# A)"
   ]
  },
  {
   "cell_type": "code",
   "execution_count": 9,
   "metadata": {},
   "outputs": [
    {
     "data": {
      "text/plain": [
       "Text(0.5, 1.0, 'Representation of 3rd & 18th Dimensions from Raw Data ')"
      ]
     },
     "execution_count": 9,
     "metadata": {},
     "output_type": "execute_result"
    },
    {
     "data": {
      "image/png": "[encoded data removed]",
      "text/plain": [
       "<Figure size 432x288 with 1 Axes>"
      ]
     },
     "metadata": {
      "needs_background": "light"
     },
     "output_type": "display_data"
    }
   ],
   "source": [
    "import pandas as pd\n",
    "import numpy as np\n",
    "import matplotlib.pyplot as plt\n",
    "from sklearn.preprocessing import StandardScaler\n",
    "from sklearn.decomposition import PCA\n",
    "from sklearn.cluster import KMeans\n",
    "from scipy import spatial\n",
    "\n",
    "#import data as pandas dataframe\n",
    "raw_data = pd.read_csv('datapoints.csv')\n",
    "\n",
    "#plot of 3rd and 18th dimensions\n",
    "dim_3 = raw_data[raw_data.columns[3]]\n",
    "dim_18 = raw_data[raw_data.columns[18]]\n",
    "\n",
    "plt.scatter(dim_3,dim_18)\n",
    "plt.xlabel('3rd Dimension', fontweight = 'bold')\n",
    "plt.ylabel('18th Dimension', fontweight = 'bold')\n",
    "plt.title('Representation of 3rd & 18th Dimensions from Raw Data ', fontweight = 'bold', fontsize = 14)"
   ]
  },
  {
   "cell_type": "markdown",
   "metadata": {},
   "source": [
    "# B)"
   ]
  },
  {
   "cell_type": "code",
   "execution_count": 10,
   "metadata": {},
   "outputs": [
    {
     "data": {
      "text/html": [
       "<div>\n",
       "<style scoped>\n",
       "    .dataframe tbody tr th:only-of-type {\n",
       "        vertical-align: middle;\n",
       "    }\n",
       "\n",
       "    .dataframe tbody tr th {\n",
       "        vertical-align: top;\n",
       "    }\n",
       "\n",
       "    .dataframe thead th {\n",
       "        text-align: right;\n",
       "    }\n",
       "</style>\n",
       "<table border=\"1\" class=\"dataframe\">\n",
       "  <thead>\n",
       "    <tr style=\"text-align: right;\">\n",
       "      <th></th>\n",
       "      <th>PC 1</th>\n",
       "      <th>PC 2</th>\n",
       "      <th>PC 3</th>\n",
       "      <th>PC 4</th>\n",
       "      <th>PC 5</th>\n",
       "      <th>PC 6</th>\n",
       "      <th>PC 7</th>\n",
       "      <th>PC 8</th>\n",
       "      <th>PC 9</th>\n",
       "      <th>PC 10</th>\n",
       "      <th>PC 11</th>\n",
       "      <th>PC 12</th>\n",
       "      <th>PC 13</th>\n",
       "      <th>PC 14</th>\n",
       "      <th>PC 15</th>\n",
       "      <th>PC 16</th>\n",
       "      <th>PC 17</th>\n",
       "      <th>PC 18</th>\n",
       "      <th>PC 19</th>\n",
       "      <th>PC 20</th>\n",
       "    </tr>\n",
       "  </thead>\n",
       "  <tbody>\n",
       "    <tr>\n",
       "      <th>0</th>\n",
       "      <td>-3.113869</td>\n",
       "      <td>-2.532172</td>\n",
       "      <td>0.096166</td>\n",
       "      <td>0.185324</td>\n",
       "      <td>0.555744</td>\n",
       "      <td>-0.494945</td>\n",
       "      <td>0.292862</td>\n",
       "      <td>1.105187</td>\n",
       "      <td>-0.169302</td>\n",
       "      <td>-0.092529</td>\n",
       "      <td>0.094455</td>\n",
       "      <td>-0.244863</td>\n",
       "      <td>0.171160</td>\n",
       "      <td>0.039969</td>\n",
       "      <td>0.396513</td>\n",
       "      <td>0.549275</td>\n",
       "      <td>0.249504</td>\n",
       "      <td>0.029750</td>\n",
       "      <td>-0.630281</td>\n",
       "      <td>0.133506</td>\n",
       "    </tr>\n",
       "    <tr>\n",
       "      <th>1</th>\n",
       "      <td>-2.872880</td>\n",
       "      <td>-1.495775</td>\n",
       "      <td>-0.759959</td>\n",
       "      <td>1.312882</td>\n",
       "      <td>-0.377708</td>\n",
       "      <td>-1.379350</td>\n",
       "      <td>-0.202223</td>\n",
       "      <td>0.298977</td>\n",
       "      <td>0.075088</td>\n",
       "      <td>-0.982829</td>\n",
       "      <td>-0.103311</td>\n",
       "      <td>-0.130485</td>\n",
       "      <td>0.545735</td>\n",
       "      <td>0.943017</td>\n",
       "      <td>-0.589967</td>\n",
       "      <td>-0.304988</td>\n",
       "      <td>0.351901</td>\n",
       "      <td>-0.185448</td>\n",
       "      <td>-0.172782</td>\n",
       "      <td>0.230824</td>\n",
       "    </tr>\n",
       "    <tr>\n",
       "      <th>2</th>\n",
       "      <td>-1.520137</td>\n",
       "      <td>2.945296</td>\n",
       "      <td>-0.103888</td>\n",
       "      <td>0.761275</td>\n",
       "      <td>0.069016</td>\n",
       "      <td>-0.383623</td>\n",
       "      <td>-0.028066</td>\n",
       "      <td>-0.777222</td>\n",
       "      <td>0.731903</td>\n",
       "      <td>0.680531</td>\n",
       "      <td>0.866419</td>\n",
       "      <td>-0.753357</td>\n",
       "      <td>-1.140484</td>\n",
       "      <td>0.105570</td>\n",
       "      <td>0.097766</td>\n",
       "      <td>0.142743</td>\n",
       "      <td>-0.281264</td>\n",
       "      <td>0.021052</td>\n",
       "      <td>-0.714013</td>\n",
       "      <td>-0.291679</td>\n",
       "    </tr>\n",
       "    <tr>\n",
       "      <th>3</th>\n",
       "      <td>2.956187</td>\n",
       "      <td>-0.627534</td>\n",
       "      <td>-1.041199</td>\n",
       "      <td>-0.501407</td>\n",
       "      <td>-0.062864</td>\n",
       "      <td>-0.041759</td>\n",
       "      <td>-0.631467</td>\n",
       "      <td>0.926523</td>\n",
       "      <td>0.512896</td>\n",
       "      <td>-0.242742</td>\n",
       "      <td>-0.169705</td>\n",
       "      <td>0.547055</td>\n",
       "      <td>-0.074156</td>\n",
       "      <td>-0.340898</td>\n",
       "      <td>0.804448</td>\n",
       "      <td>-0.215219</td>\n",
       "      <td>-0.374926</td>\n",
       "      <td>-0.403022</td>\n",
       "      <td>-0.012356</td>\n",
       "      <td>0.339519</td>\n",
       "    </tr>\n",
       "    <tr>\n",
       "      <th>4</th>\n",
       "      <td>3.309341</td>\n",
       "      <td>-0.673007</td>\n",
       "      <td>-0.997370</td>\n",
       "      <td>1.188107</td>\n",
       "      <td>-0.418880</td>\n",
       "      <td>0.268477</td>\n",
       "      <td>-0.674102</td>\n",
       "      <td>0.272727</td>\n",
       "      <td>0.346649</td>\n",
       "      <td>1.117799</td>\n",
       "      <td>-0.470771</td>\n",
       "      <td>0.625851</td>\n",
       "      <td>-0.413139</td>\n",
       "      <td>-0.275758</td>\n",
       "      <td>0.179786</td>\n",
       "      <td>-0.515685</td>\n",
       "      <td>0.410835</td>\n",
       "      <td>0.418016</td>\n",
       "      <td>0.182096</td>\n",
       "      <td>0.076664</td>\n",
       "    </tr>\n",
       "    <tr>\n",
       "      <th>...</th>\n",
       "      <td>...</td>\n",
       "      <td>...</td>\n",
       "      <td>...</td>\n",
       "      <td>...</td>\n",
       "      <td>...</td>\n",
       "      <td>...</td>\n",
       "      <td>...</td>\n",
       "      <td>...</td>\n",
       "      <td>...</td>\n",
       "      <td>...</td>\n",
       "      <td>...</td>\n",
       "      <td>...</td>\n",
       "      <td>...</td>\n",
       "      <td>...</td>\n",
       "      <td>...</td>\n",
       "      <td>...</td>\n",
       "      <td>...</td>\n",
       "      <td>...</td>\n",
       "      <td>...</td>\n",
       "      <td>...</td>\n",
       "    </tr>\n",
       "    <tr>\n",
       "      <th>295</th>\n",
       "      <td>-1.187343</td>\n",
       "      <td>3.510869</td>\n",
       "      <td>0.839288</td>\n",
       "      <td>0.296376</td>\n",
       "      <td>2.242949</td>\n",
       "      <td>-1.149731</td>\n",
       "      <td>0.506175</td>\n",
       "      <td>1.242261</td>\n",
       "      <td>0.849060</td>\n",
       "      <td>-0.830203</td>\n",
       "      <td>-0.431412</td>\n",
       "      <td>-0.892308</td>\n",
       "      <td>-0.019625</td>\n",
       "      <td>0.099841</td>\n",
       "      <td>1.138216</td>\n",
       "      <td>0.106458</td>\n",
       "      <td>-0.045551</td>\n",
       "      <td>0.517004</td>\n",
       "      <td>-0.493406</td>\n",
       "      <td>0.447055</td>\n",
       "    </tr>\n",
       "    <tr>\n",
       "      <th>296</th>\n",
       "      <td>-0.686275</td>\n",
       "      <td>4.596637</td>\n",
       "      <td>0.497657</td>\n",
       "      <td>-0.806716</td>\n",
       "      <td>0.033643</td>\n",
       "      <td>-0.332601</td>\n",
       "      <td>0.166252</td>\n",
       "      <td>0.016599</td>\n",
       "      <td>-0.296968</td>\n",
       "      <td>0.084548</td>\n",
       "      <td>-0.405587</td>\n",
       "      <td>0.051344</td>\n",
       "      <td>0.284044</td>\n",
       "      <td>0.305071</td>\n",
       "      <td>0.190478</td>\n",
       "      <td>-0.478294</td>\n",
       "      <td>-0.207072</td>\n",
       "      <td>-0.087442</td>\n",
       "      <td>-0.025244</td>\n",
       "      <td>0.471903</td>\n",
       "    </tr>\n",
       "    <tr>\n",
       "      <th>297</th>\n",
       "      <td>3.072018</td>\n",
       "      <td>-0.629207</td>\n",
       "      <td>0.939475</td>\n",
       "      <td>0.628192</td>\n",
       "      <td>-0.120754</td>\n",
       "      <td>0.350145</td>\n",
       "      <td>-0.600639</td>\n",
       "      <td>0.136778</td>\n",
       "      <td>0.375257</td>\n",
       "      <td>1.319473</td>\n",
       "      <td>-0.316987</td>\n",
       "      <td>0.311987</td>\n",
       "      <td>-0.196431</td>\n",
       "      <td>-0.207538</td>\n",
       "      <td>-0.579439</td>\n",
       "      <td>0.462032</td>\n",
       "      <td>0.947505</td>\n",
       "      <td>0.160500</td>\n",
       "      <td>-0.350491</td>\n",
       "      <td>0.116226</td>\n",
       "    </tr>\n",
       "    <tr>\n",
       "      <th>298</th>\n",
       "      <td>-1.499135</td>\n",
       "      <td>3.999160</td>\n",
       "      <td>0.001098</td>\n",
       "      <td>-0.962411</td>\n",
       "      <td>-0.879967</td>\n",
       "      <td>-0.852304</td>\n",
       "      <td>-0.250173</td>\n",
       "      <td>0.137105</td>\n",
       "      <td>-1.316100</td>\n",
       "      <td>0.459481</td>\n",
       "      <td>0.530084</td>\n",
       "      <td>0.095711</td>\n",
       "      <td>0.150891</td>\n",
       "      <td>-0.699734</td>\n",
       "      <td>0.396404</td>\n",
       "      <td>-0.508875</td>\n",
       "      <td>-0.347351</td>\n",
       "      <td>-0.318611</td>\n",
       "      <td>0.846166</td>\n",
       "      <td>0.444691</td>\n",
       "    </tr>\n",
       "    <tr>\n",
       "      <th>299</th>\n",
       "      <td>-0.571707</td>\n",
       "      <td>2.263379</td>\n",
       "      <td>-1.373180</td>\n",
       "      <td>-2.318791</td>\n",
       "      <td>-0.214708</td>\n",
       "      <td>0.471401</td>\n",
       "      <td>-0.663608</td>\n",
       "      <td>-0.459847</td>\n",
       "      <td>-0.485848</td>\n",
       "      <td>-0.183518</td>\n",
       "      <td>-0.776757</td>\n",
       "      <td>0.163181</td>\n",
       "      <td>1.164482</td>\n",
       "      <td>-0.625405</td>\n",
       "      <td>0.242363</td>\n",
       "      <td>-0.591486</td>\n",
       "      <td>-0.240325</td>\n",
       "      <td>0.217584</td>\n",
       "      <td>0.527643</td>\n",
       "      <td>0.479590</td>\n",
       "    </tr>\n",
       "  </tbody>\n",
       "</table>\n",
       "<p>300 rows × 20 columns</p>\n",
       "</div>"
      ],
      "text/plain": [
       "         PC 1      PC 2      PC 3      PC 4      PC 5      PC 6      PC 7  \\\n",
       "0   -3.113869 -2.532172  0.096166  0.185324  0.555744 -0.494945  0.292862   \n",
       "1   -2.872880 -1.495775 -0.759959  1.312882 -0.377708 -1.379350 -0.202223   \n",
       "2   -1.520137  2.945296 -0.103888  0.761275  0.069016 -0.383623 -0.028066   \n",
       "3    2.956187 -0.627534 -1.041199 -0.501407 -0.062864 -0.041759 -0.631467   \n",
       "4    3.309341 -0.673007 -0.997370  1.188107 -0.418880  0.268477 -0.674102   \n",
       "..        ...       ...       ...       ...       ...       ...       ...   \n",
       "295 -1.187343  3.510869  0.839288  0.296376  2.242949 -1.149731  0.506175   \n",
       "296 -0.686275  4.596637  0.497657 -0.806716  0.033643 -0.332601  0.166252   \n",
       "297  3.072018 -0.629207  0.939475  0.628192 -0.120754  0.350145 -0.600639   \n",
       "298 -1.499135  3.999160  0.001098 -0.962411 -0.879967 -0.852304 -0.250173   \n",
       "299 -0.571707  2.263379 -1.373180 -2.318791 -0.214708  0.471401 -0.663608   \n",
       "\n",
       "         PC 8      PC 9     PC 10     PC 11     PC 12     PC 13     PC 14  \\\n",
       "0    1.105187 -0.169302 -0.092529  0.094455 -0.244863  0.171160  0.039969   \n",
       "1    0.298977  0.075088 -0.982829 -0.103311 -0.130485  0.545735  0.943017   \n",
       "2   -0.777222  0.731903  0.680531  0.866419 -0.753357 -1.140484  0.105570   \n",
       "3    0.926523  0.512896 -0.242742 -0.169705  0.547055 -0.074156 -0.340898   \n",
       "4    0.272727  0.346649  1.117799 -0.470771  0.625851 -0.413139 -0.275758   \n",
       "..        ...       ...       ...       ...       ...       ...       ...   \n",
       "295  1.242261  0.849060 -0.830203 -0.431412 -0.892308 -0.019625  0.099841   \n",
       "296  0.016599 -0.296968  0.084548 -0.405587  0.051344  0.284044  0.305071   \n",
       "297  0.136778  0.375257  1.319473 -0.316987  0.311987 -0.196431 -0.207538   \n",
       "298  0.137105 -1.316100  0.459481  0.530084  0.095711  0.150891 -0.699734   \n",
       "299 -0.459847 -0.485848 -0.183518 -0.776757  0.163181  1.164482 -0.625405   \n",
       "\n",
       "        PC 15     PC 16     PC 17     PC 18     PC 19     PC 20  \n",
       "0    0.396513  0.549275  0.249504  0.029750 -0.630281  0.133506  \n",
       "1   -0.589967 -0.304988  0.351901 -0.185448 -0.172782  0.230824  \n",
       "2    0.097766  0.142743 -0.281264  0.021052 -0.714013 -0.291679  \n",
       "3    0.804448 -0.215219 -0.374926 -0.403022 -0.012356  0.339519  \n",
       "4    0.179786 -0.515685  0.410835  0.418016  0.182096  0.076664  \n",
       "..        ...       ...       ...       ...       ...       ...  \n",
       "295  1.138216  0.106458 -0.045551  0.517004 -0.493406  0.447055  \n",
       "296  0.190478 -0.478294 -0.207072 -0.087442 -0.025244  0.471903  \n",
       "297 -0.579439  0.462032  0.947505  0.160500 -0.350491  0.116226  \n",
       "298  0.396404 -0.508875 -0.347351 -0.318611  0.846166  0.444691  \n",
       "299  0.242363 -0.591486 -0.240325  0.217584  0.527643  0.479590  \n",
       "\n",
       "[300 rows x 20 columns]"
      ]
     },
     "execution_count": 10,
     "metadata": {},
     "output_type": "execute_result"
    }
   ],
   "source": [
    "#raw values standardized/scaled\n",
    "data_scaled = StandardScaler().fit_transform(raw_data) \n",
    "\n",
    "#PCA fit and display\n",
    "pca = PCA()\n",
    "pca_data = pca.fit_transform(data_scaled)\n",
    "\n",
    "naming_list = [f'PC {i+1}' for i in range(20)]\n",
    "pd.DataFrame(pca_data, columns=naming_list)\n",
    "\n",
    "\n"
   ]
  },
  {
   "cell_type": "markdown",
   "metadata": {},
   "source": [
    "# C)"
   ]
  },
  {
   "cell_type": "code",
   "execution_count": 11,
   "metadata": {},
   "outputs": [
    {
     "name": "stdout",
     "output_type": "stream",
     "text": [
      "[36.9  26.66  4.52  3.86  3.59  3.09  3.08  2.7   2.36  1.84  1.66  1.31\n",
      "  1.29  1.21  1.11  1.1   1.02  0.99  0.89  0.82]\n"
     ]
    },
    {
     "data": {
      "image/png": "[encoded data removed]",
      "text/plain": [
       "<Figure size 432x288 with 1 Axes>"
      ]
     },
     "metadata": {
      "needs_background": "light"
     },
     "output_type": "display_data"
    }
   ],
   "source": [
    "#plot of variance explained by PCs\n",
    "plt.title('Variance Explained by Principal Components')\n",
    "plt.ylabel('Percentage')\n",
    "plt.xlabel('Principal Component')\n",
    "plt.xticks(range(1,21))\n",
    "plt.bar(range(1,21), pca.explained_variance_ratio_)\n",
    "\n",
    "#variation displayed for clarity\n",
    "variation = np.round((pca.explained_variance_ratio_ * 100),2)\n",
    "print(variation)\n"
   ]
  },
  {
   "cell_type": "markdown",
   "metadata": {},
   "source": [
    "PCA appears to be a good option to reduce the dimensions of the data provided in datapoints.csv as most of the variance can be captured in the first 2 principal components."
   ]
  },
  {
   "cell_type": "markdown",
   "metadata": {},
   "source": [
    "# D)"
   ]
  },
  {
   "cell_type": "code",
   "execution_count": 12,
   "metadata": {},
   "outputs": [
    {
     "data": {
      "text/plain": [
       "<matplotlib.collections.PathCollection at 0x261cb60a940>"
      ]
     },
     "execution_count": 12,
     "metadata": {},
     "output_type": "execute_result"
    },
    {
     "data": {
      "image/png": "[encoded data removed]",
      "text/plain": [
       "<Figure size 432x288 with 1 Axes>"
      ]
     },
     "metadata": {
      "needs_background": "light"
     },
     "output_type": "display_data"
    }
   ],
   "source": [
    "#setting up PCA data for plotting\n",
    "pc_first_2 = PCA(n_components=2)\n",
    "pc_first_2_FT = pc_first_2.fit_transform(data_scaled)\n",
    "pc1 = pc_first_2_FT[:,0]\n",
    "pc2 = pc_first_2_FT[:,1]\n",
    "\n",
    "\n",
    "\n",
    "#plot of first two principle components\n",
    "plt.xlabel(f'PC 1 ({variation[0]}%)', fontweight='bold')\n",
    "plt.ylabel(f'PC 2 ({variation[1]}%)', fontweight='bold')\n",
    "plt.title('Principal Component Analysis', fontsize = 22)\n",
    "\n",
    "plt.scatter(pc1,pc2)"
   ]
  },
  {
   "cell_type": "markdown",
   "metadata": {},
   "source": [
    "# Problem 2. K-Means Clustering"
   ]
  },
  {
   "cell_type": "markdown",
   "metadata": {},
   "source": [
    "# A)"
   ]
  },
  {
   "cell_type": "code",
   "execution_count": 13,
   "metadata": {},
   "outputs": [
    {
     "name": "stderr",
     "output_type": "stream",
     "text": [
      "C:\\Users\\ryany\\anaconda3\\lib\\site-packages\\sklearn\\cluster\\_kmeans.py:881: UserWarning: KMeans is known to have a memory leak on Windows with MKL, when there are less chunks than available threads. You can avoid it by setting the environment variable OMP_NUM_THREADS=2.\n",
      "  warnings.warn(\n"
     ]
    },
    {
     "data": {
      "text/plain": [
       "[<matplotlib.lines.Line2D at 0x261ccf16100>]"
      ]
     },
     "execution_count": 13,
     "metadata": {},
     "output_type": "execute_result"
    },
    {
     "data": {
      "image/png": "[encoded data removed]",
      "text/plain": [
       "<Figure size 432x288 with 1 Axes>"
      ]
     },
     "metadata": {
      "needs_background": "light"
     },
     "output_type": "display_data"
    }
   ],
   "source": [
    "inertia_vals = []\n",
    "\n",
    "#creates list of inertia values to plot\n",
    "for i in range(1,21):\n",
    "    kmeans = KMeans(n_clusters=i)\n",
    "    kmeans.fit(pca_data)\n",
    "    inertia_vals.append(kmeans.inertia_)\n",
    "\n",
    "\n",
    "#elbow plot\n",
    "plt.xlabel('Clusters')\n",
    "plt.ylabel('Sum of Squared Distances')\n",
    "plt.title('K-Means Sum of Squated Distances Elbow Plot')\n",
    "plt.xticks(range(0,21))\n",
    "plt.plot(range(1,21),inertia_vals)\n"
   ]
  },
  {
   "cell_type": "markdown",
   "metadata": {},
   "source": [
    "Based on the plot above the optimal amount of clusters appears to be 3. "
   ]
  },
  {
   "cell_type": "markdown",
   "metadata": {},
   "source": [
    "# B)"
   ]
  },
  {
   "cell_type": "code",
   "execution_count": 14,
   "metadata": {},
   "outputs": [
    {
     "data": {
      "text/plain": [
       "<matplotlib.collections.PathCollection at 0x261ccf693a0>"
      ]
     },
     "execution_count": 14,
     "metadata": {},
     "output_type": "execute_result"
    },
    {
     "data": {
      "image/png": "[encoded data removed]",
      "text/plain": [
       "<Figure size 432x288 with 1 Axes>"
      ]
     },
     "metadata": {
      "needs_background": "light"
     },
     "output_type": "display_data"
    }
   ],
   "source": [
    "#plot to show data before clustering\n",
    "dim_0 = raw_data[raw_data.columns[0]]\n",
    "dim_1 = raw_data[raw_data.columns[1]]\n",
    "\n",
    "\n",
    "plt.xlabel(f'Dimension 1', fontweight='bold')\n",
    "plt.ylabel(f'Dimension 2', fontweight='bold')\n",
    "plt.title('Dimensions 1 & 2 Before Clustering', fontsize = 14, fontweight='bold')\n",
    "plt.scatter(dim_0,dim_1)"
   ]
  },
  {
   "cell_type": "code",
   "execution_count": 15,
   "metadata": {},
   "outputs": [
    {
     "data": {
      "image/png": "[encoded data removed]",
      "text/plain": [
       "<Figure size 432x288 with 1 Axes>"
      ]
     },
     "metadata": {
      "needs_background": "light"
     },
     "output_type": "display_data"
    }
   ],
   "source": [
    "def kmeans(i1=dim_0,i2=dim_1,k=3,iterations=10,seed=10):\n",
    "    \"\"\"kmeans takes datasets(i1,i2) as inputs of a single pandas column each. k = clusters(int),\n",
    "    iterations = clustering iterations (int).  Seed is a random seed for initial clustering.\n",
    "    Returns a KMeans clustered scatterplot, with current iteration centroids labeled.\"\"\"\n",
    "    np.random.seed(seed)\n",
    "\n",
    "    centroids_x = []\n",
    "    centroids_y = []\n",
    "    d_c1 = []\n",
    "    d_c2 = []\n",
    "    d_c3 = []\n",
    "    c1_x = []\n",
    "    c1_y = []\n",
    "    c2_x = []\n",
    "    c2_y = []\n",
    "    c3_x = []\n",
    "    c3_y = []\n",
    "\n",
    "    #Creates initial centroids by choosing 3 random points from the dataset\n",
    "    for i in range(k):\n",
    "        r = np.random.randint(len(i1))\n",
    "        centroids_x.append(i1[r])\n",
    "        centroids_y.append(i2[r])\n",
    "\n",
    "    #10 iterations of clustering\n",
    "    for i in range(iterations):\n",
    "        #initializes the distance lists and cluster lists\n",
    "        d_c1 = []\n",
    "        d_c2 = []\n",
    "        d_c3 = []\n",
    "        c1_x = []\n",
    "        c1_y = []\n",
    "        c2_x = []\n",
    "        c2_y = []\n",
    "        c3_x = []\n",
    "        c3_y = []\n",
    "\n",
    "\n",
    "        #calculates the distance from each point to each centroid\n",
    "        for i in range(len(i1)):\n",
    "            d_c1.append(spatial.distance.euclidean([i1[i],i2[i]],[centroids_x[0],centroids_y[0]]))\n",
    "            d_c2.append(spatial.distance.euclidean([i1[i],i2[i]],[centroids_x[1],centroids_y[1]]))\n",
    "            d_c3.append(spatial.distance.euclidean([i1[i],i2[i]],[centroids_x[2],centroids_y[2]]))\n",
    "        \n",
    "        #assigns each point to a cluster based on the lowest distance to cluster centroid\n",
    "        for i in range(len(d_c1)):\n",
    "            d_c_combined = [d_c1[i],d_c2[i],d_c3[i]]\n",
    "        \n",
    "            #Assign to cluster 1 (c1)\n",
    "            if d_c_combined.index(min(d_c_combined)) == 0:\n",
    "                c1_x.append(i1[i])\n",
    "                c1_y.append(i2[i])\n",
    "            #Assign to cluster 2 (c2)\n",
    "            elif d_c_combined.index(min(d_c_combined)) == 1:\n",
    "                c2_x.append(i1[i])\n",
    "                c2_y.append(i2[i])\n",
    "            #Assign to cluster 3 (c3)\n",
    "            elif d_c_combined.index(min(d_c_combined)) == 2:\n",
    "                c3_x.append(i1[i])\n",
    "                c3_y.append(i2[i])\n",
    "        \n",
    "        #calculate new centroids\n",
    "        centroids_x = []\n",
    "        centroids_y = []\n",
    "\n",
    "        #Centroid index 0 set to the average of cluster 1\n",
    "        centroids_x.append(np.mean(c1_x))\n",
    "        centroids_y.append(np.mean(c1_y))\n",
    "\n",
    "        #Centroid index 1 set to the average of cluster 2\n",
    "        centroids_x.append(np.mean(c2_x))\n",
    "        centroids_y.append(np.mean(c2_y))\n",
    "\n",
    "        #Centroid index 2 set to the average of cluster 3\n",
    "        centroids_x.append(np.mean(c3_x))\n",
    "        centroids_y.append(np.mean(c3_y))\n",
    "\n",
    "        \n",
    "\n",
    "    #plotting the clusters\n",
    "    plt.scatter(c1_x,c1_y, label='Cluster 1')\n",
    "    plt.scatter(c2_x,c2_y, label='Cluster 2')\n",
    "    plt.scatter(c3_x,c3_y, label='Cluster 3')\n",
    "    plt.scatter(centroids_x,centroids_y, c='red', label='Centroids')\n",
    "    plt.legend(loc='upper center', bbox_to_anchor=(1.15, 0.98), shadow=True)\n",
    "    plt.xlabel(f'Dimension 1', fontweight='bold')\n",
    "    plt.ylabel(f'Dimension 2', fontweight='bold')\n",
    "    plt.title(f'Dimensions 1 & 2 KMeans Clustered (k={k})', fontsize = 14, fontweight='bold')\n",
    "    plt.show()\n",
    "\n",
    "kmeans()"
   ]
  }
 ],
 "metadata": {
  "interpreter": {
   "hash": "52a7b1256baadbcfded298829fa032c6e5eb5320512cda093e76546fdb1847e3"
  },
  "kernelspec": {
   "display_name": "Python 3",
   "language": "python",
   "name": "python3"
  },
  "language_info": {
   "codemirror_mode": {
    "name": "ipython",
    "version": 3
   },
   "file_extension": ".py",
   "mimetype": "text/x-python",
   "name": "python",
   "nbconvert_exporter": "python",
   "pygments_lexer": "ipython3",
   "version": "3.8.8"
  }
 },
 "nbformat": 4,
 "nbformat_minor": 2
}
